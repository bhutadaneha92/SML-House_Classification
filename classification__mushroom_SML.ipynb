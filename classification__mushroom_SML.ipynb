{
  "cells": [
    {
      "cell_type": "markdown",
      "metadata": {
        "id": "46SFv3VCsG9y"
      },
      "source": [
        "# Mushrooms ML competition\n",
        "\n",
        "A sample solution using `predict_proba` and the ROC curve."
      ]
    },
    {
      "cell_type": "markdown",
      "metadata": {
        "id": "9e94EC7LsG90"
      },
      "source": [
        "## 1. Import libraries"
      ]
    },
    {
      "cell_type": "code",
      "execution_count": null,
      "metadata": {
        "id": "T87sxTmAsG90",
        "tags": []
      },
      "outputs": [],
      "source": [
        "import numpy as np\n",
        "import pandas as pd\n",
        "import matplotlib.pyplot as plt\n",
        "import seaborn as sns\n",
        "from sklearn.model_selection import train_test_split\n",
        "\n",
        "\n",
        "from sklearn.pipeline import Pipeline, make_pipeline\n",
        "from sklearn.compose import ColumnTransformer\n",
        "from sklearn.preprocessing import OneHotEncoder\n",
        "\n",
        "from sklearn.metrics import confusion_matrix\n",
        "\n",
        "\n",
        "from sklearn.ensemble import RandomForestClassifier"
      ]
    },
    {
      "cell_type": "code",
      "execution_count": null,
      "metadata": {
        "id": "xLtB3yMXrsjt"
      },
      "outputs": [],
      "source": [
        "from sklearn import set_config\n",
        "\n",
        "set_config(transform_output=\"pandas\")"
      ]
    },
    {
      "cell_type": "markdown",
      "metadata": {
        "id": "yQbdG68msG91"
      },
      "source": [
        "## 2. Read, manipulate and split data"
      ]
    },
    {
      "cell_type": "code",
      "execution_count": null,
      "metadata": {
        "id": "SuvbkdqSsG92",
        "tags": []
      },
      "outputs": [],
      "source": [
        "url = 'https://drive.google.com/file/d/1Op1vQftBKN1lrPVGGLJU-UOlv_dScTup/view?usp=sharing' # train.csv\n",
        "path = 'https://drive.google.com/uc?export=download&id='+url.split('/')[-2]\n",
        "mush = pd.read_csv(path)"
      ]
    },
    {
      "cell_type": "code",
      "execution_count": null,
      "metadata": {
        "id": "hCtkBSt_sG92",
        "tags": []
      },
      "outputs": [],
      "source": [
        "url = 'https://drive.google.com/file/d/16S9TzU3JkhwlGhXczibK9f2UbgNaHdM3/view?usp=sharing' # test.csv\n",
        "path = 'https://drive.google.com/uc?export=download&id='+url.split('/')[-2]\n",
        "mush_test = pd.read_csv(path)"
      ]
    },
    {
      "cell_type": "code",
      "execution_count": null,
      "metadata": {
        "id": "EpQfMHidsG92"
      },
      "outputs": [],
      "source": [
        "mush.drop('Id',axis=1,inplace=True)"
      ]
    },
    {
      "cell_type": "code",
      "execution_count": null,
      "metadata": {
        "id": "W00gItHEsG93"
      },
      "outputs": [],
      "source": [
        "mush_test.set_index('Id',inplace=True)"
      ]
    },
    {
      "cell_type": "code",
      "execution_count": null,
      "metadata": {
        "colab": {
          "base_uri": "https://localhost:8080/",
          "height": 206
        },
        "id": "NERJiVLXsG93",
        "outputId": "c325b60b-7e7c-4b43-c21f-072df42679b3",
        "tags": []
      },
      "outputs": [
        {
          "data": {
            "text/html": [
              "<div>\n",
              "<style scoped>\n",
              "    .dataframe tbody tr th:only-of-type {\n",
              "        vertical-align: middle;\n",
              "    }\n",
              "\n",
              "    .dataframe tbody tr th {\n",
              "        vertical-align: top;\n",
              "    }\n",
              "\n",
              "    .dataframe thead th {\n",
              "        text-align: right;\n",
              "    }\n",
              "</style>\n",
              "<table border=\"1\" class=\"dataframe\">\n",
              "  <thead>\n",
              "    <tr style=\"text-align: right;\">\n",
              "      <th></th>\n",
              "      <th>cap.shape</th>\n",
              "      <th>cap.color</th>\n",
              "      <th>bruises</th>\n",
              "      <th>stalk.color.above.ring</th>\n",
              "      <th>stalk.color.below.ring</th>\n",
              "      <th>population</th>\n",
              "    </tr>\n",
              "  </thead>\n",
              "  <tbody>\n",
              "    <tr>\n",
              "      <th>1725</th>\n",
              "      <td>f</td>\n",
              "      <td>g</td>\n",
              "      <td>True</td>\n",
              "      <td>w</td>\n",
              "      <td>p</td>\n",
              "      <td>y</td>\n",
              "    </tr>\n",
              "    <tr>\n",
              "      <th>1260</th>\n",
              "      <td>f</td>\n",
              "      <td>g</td>\n",
              "      <td>True</td>\n",
              "      <td>g</td>\n",
              "      <td>g</td>\n",
              "      <td>v</td>\n",
              "    </tr>\n",
              "    <tr>\n",
              "      <th>4551</th>\n",
              "      <td>x</td>\n",
              "      <td>y</td>\n",
              "      <td>False</td>\n",
              "      <td>p</td>\n",
              "      <td>b</td>\n",
              "      <td>y</td>\n",
              "    </tr>\n",
              "    <tr>\n",
              "      <th>2442</th>\n",
              "      <td>f</td>\n",
              "      <td>c</td>\n",
              "      <td>False</td>\n",
              "      <td>w</td>\n",
              "      <td>n</td>\n",
              "      <td>v</td>\n",
              "    </tr>\n",
              "    <tr>\n",
              "      <th>6109</th>\n",
              "      <td>x</td>\n",
              "      <td>g</td>\n",
              "      <td>True</td>\n",
              "      <td>g</td>\n",
              "      <td>w</td>\n",
              "      <td>v</td>\n",
              "    </tr>\n",
              "  </tbody>\n",
              "</table>\n",
              "</div>"
            ],
            "text/plain": [
              "     cap.shape cap.color  bruises stalk.color.above.ring  \\\n",
              "1725         f         g     True                      w   \n",
              "1260         f         g     True                      g   \n",
              "4551         x         y    False                      p   \n",
              "2442         f         c    False                      w   \n",
              "6109         x         g     True                      g   \n",
              "\n",
              "     stalk.color.below.ring population  \n",
              "1725                      p          y  \n",
              "1260                      g          v  \n",
              "4551                      b          y  \n",
              "2442                      n          v  \n",
              "6109                      w          v  "
            ]
          },
          "execution_count": 15,
          "metadata": {},
          "output_type": "execute_result"
        }
      ],
      "source": [
        "X = mush.drop(columns=['poisonous'])\n",
        "y = mush['poisonous']\n",
        "\n",
        "X_train, X_test, y_train, y_test = train_test_split(X, y, train_size=.8, random_state=8)\n",
        "X_train.head()"
      ]
    },
    {
      "cell_type": "markdown",
      "metadata": {
        "id": "mDLk30SMsG94"
      },
      "source": [
        "## 3. Pipeline"
      ]
    },
    {
      "cell_type": "markdown",
      "metadata": {
        "id": "FC10uuIPsG94"
      },
      "source": [
        "We have chosen the `RandomForestClassifier()` as our model but you can try any other classifier."
      ]
    },
    {
      "cell_type": "code",
      "execution_count": null,
      "metadata": {
        "colab": {
          "base_uri": "https://localhost:8080/"
        },
        "id": "01yDRHXnsG95",
        "outputId": "6d65517f-4b1e-4adb-e520-a982d0d1d396",
        "tags": []
      },
      "outputs": [
        {
          "data": {
            "text/plain": [
              "['cap.shape',\n",
              " 'cap.color',\n",
              " 'stalk.color.above.ring',\n",
              " 'stalk.color.below.ring',\n",
              " 'population']"
            ]
          },
          "execution_count": 16,
          "metadata": {},
          "output_type": "execute_result"
        }
      ],
      "source": [
        "cat_col= list(X_train.select_dtypes(include=[\"object\"]))\n",
        "cat_col"
      ]
    },
    {
      "cell_type": "code",
      "execution_count": null,
      "metadata": {
        "id": "zfavadC8sG95",
        "tags": []
      },
      "outputs": [],
      "source": [
        "categorical_pipeline = Pipeline(steps=[\n",
        "    ('one-hot', OneHotEncoder(handle_unknown='ignore', sparse_output=False))\n",
        "])\n",
        "\n",
        "full_processor = ColumnTransformer(transformers=[\n",
        "    ('category', categorical_pipeline, cat_col)\n",
        "])"
      ]
    },
    {
      "cell_type": "code",
      "execution_count": null,
      "metadata": {
        "id": "fWNlNNzesG95",
        "tags": []
      },
      "outputs": [],
      "source": [
        "rf_pipeline = Pipeline(steps=[\n",
        "    ('processor', full_processor),\n",
        "    ('model', RandomForestClassifier(n_estimators=500, random_state=123))\n",
        "])"
      ]
    },
    {
      "cell_type": "code",
      "execution_count": null,
      "metadata": {
        "id": "agSb2zjpsG96",
        "tags": []
      },
      "outputs": [],
      "source": [
        "_ = rf_pipeline.fit(X_train, y_train)"
      ]
    },
    {
      "cell_type": "code",
      "execution_count": null,
      "metadata": {
        "colab": {
          "base_uri": "https://localhost:8080/",
          "height": 453
        },
        "id": "JXNe7G_JsG96",
        "outputId": "fb2fcce5-cf48-4768-fed2-24b443d638f2"
      },
      "outputs": [
        {
          "data": {
            "image/png": "[encoded data removed]",
            "text/plain": [
              "<Figure size 640x480 with 2 Axes>"
            ]
          },
          "metadata": {},
          "output_type": "display_data"
        }
      ],
      "source": [
        "from sklearn.metrics import ConfusionMatrixDisplay\n",
        "ConfusionMatrixDisplay.from_estimator(\n",
        "    rf_pipeline, X_test, y_test, display_labels=['Not poisonous', 'Poisonous']);"
      ]
    },
    {
      "cell_type": "markdown",
      "metadata": {
        "id": "e3LL-F8MsG96"
      },
      "source": [
        "The confusion matrix shows that our model predicted 36 False negatives, which means 36 poisonous mushrooms will be predicted as non-poisonous. Our task is to avoid these situations at all costs, so we need to find a way to make that left-bottom corner of confusion matrix to be 0."
      ]
    },
    {
      "cell_type": "markdown",
      "metadata": {
        "id": "x0HDR10NsG96"
      },
      "source": [
        "## 4. Probabilities with `predict_proba()`"
      ]
    },
    {
      "cell_type": "markdown",
      "metadata": {
        "id": "sl2K3NM4sG97"
      },
      "source": [
        "In this notebook we will try to change threshold with which we are predicting our classes."
      ]
    },
    {
      "cell_type": "markdown",
      "metadata": {
        "id": "nciPCTwvsG97"
      },
      "source": [
        "**What is a threshold?**\n",
        "\n",
        "It is a value above or below which a model predicts a different class.  \n",
        "The default threshold is `0.5`, which means that if a sample has a `0.51` chance to be class 0 and a `0.49` chance to be class 1, the model will predict that sample as class 0.\n",
        "\n",
        "In our case, this can be very dangerous because a `0.49` chance that a mushroom is poisonous is still a high chance, but our model with the default threshold will still predict it as non-poisonous.\n",
        "\n",
        "If you're intending to eat a mushroom, would you prefer that it is labeled as poisonous even if it's non-poisonous, or that it is labeled non-poisonous even if it's poisonous?\n",
        "\n",
        "Uneaten non-poisonous mushrooms are a pity, but eaten poisonous mushrooms are a deathly risk.\n",
        "\n",
        "After moving threshold this will indeed happen:  \n",
        "A lot of non-poisonous might be labeled poisonous and they will be left uneaten, but at least no poisonous will be labeled non-poisonous and noone will die!"
      ]
    },
    {
      "cell_type": "markdown",
      "metadata": {
        "id": "RmuzUg8XsG97"
      },
      "source": [
        "The **`predict_proba()`** method will help us with our task.\n",
        "\n",
        "\n",
        "`predict_proba()` is a method that many Scikit-Learn classification models have, including `LogisticRegression`, `KNeighborsClassifier`, `DecisionTreeClassifier` or the one we'll use in our example, `RandomForestClassifier`. (You can check what methods any Scikit-Learn transformer/model have by just looking at its documentation.) As [the documentation for that method outlines](https://scikit-learn.org/stable/modules/generated/sklearn.ensemble.RandomForestClassifier.html#sklearn.ensemble.RandomForestClassifier.predict_proba), after fitting one of the mentioned models to the data,  `predict_proba()` will return the probabilities of each sample to belong to each possible class.\n",
        "\n",
        "In our case, for each mushroom, `predict_proba()` will tell us probability of that mushroom being non-poisonous (class 0) and poisonous (class 1). Let's have a look:"
      ]
    },
    {
      "cell_type": "code",
      "execution_count": null,
      "metadata": {
        "colab": {
          "base_uri": "https://localhost:8080/",
          "height": 423
        },
        "id": "MvJ8jN33sG97",
        "outputId": "a48423f4-24be-4c81-f0b2-78218b7240d3",
        "tags": []
      },
      "outputs": [
        {
          "data": {
            "text/html": [
              "<div>\n",
              "<style scoped>\n",
              "    .dataframe tbody tr th:only-of-type {\n",
              "        vertical-align: middle;\n",
              "    }\n",
              "\n",
              "    .dataframe tbody tr th {\n",
              "        vertical-align: top;\n",
              "    }\n",
              "\n",
              "    .dataframe thead th {\n",
              "        text-align: right;\n",
              "    }\n",
              "</style>\n",
              "<table border=\"1\" class=\"dataframe\">\n",
              "  <thead>\n",
              "    <tr style=\"text-align: right;\">\n",
              "      <th></th>\n",
              "      <th>0</th>\n",
              "      <th>1</th>\n",
              "    </tr>\n",
              "  </thead>\n",
              "  <tbody>\n",
              "    <tr>\n",
              "      <th>0</th>\n",
              "      <td>0.590304</td>\n",
              "      <td>0.409696</td>\n",
              "    </tr>\n",
              "    <tr>\n",
              "      <th>1</th>\n",
              "      <td>1.000000</td>\n",
              "      <td>0.000000</td>\n",
              "    </tr>\n",
              "    <tr>\n",
              "      <th>2</th>\n",
              "      <td>0.151588</td>\n",
              "      <td>0.848412</td>\n",
              "    </tr>\n",
              "    <tr>\n",
              "      <th>3</th>\n",
              "      <td>0.000000</td>\n",
              "      <td>1.000000</td>\n",
              "    </tr>\n",
              "    <tr>\n",
              "      <th>4</th>\n",
              "      <td>0.132549</td>\n",
              "      <td>0.867451</td>\n",
              "    </tr>\n",
              "    <tr>\n",
              "      <th>...</th>\n",
              "      <td>...</td>\n",
              "      <td>...</td>\n",
              "    </tr>\n",
              "    <tr>\n",
              "      <th>1295</th>\n",
              "      <td>1.000000</td>\n",
              "      <td>0.000000</td>\n",
              "    </tr>\n",
              "    <tr>\n",
              "      <th>1296</th>\n",
              "      <td>0.154944</td>\n",
              "      <td>0.845056</td>\n",
              "    </tr>\n",
              "    <tr>\n",
              "      <th>1297</th>\n",
              "      <td>1.000000</td>\n",
              "      <td>0.000000</td>\n",
              "    </tr>\n",
              "    <tr>\n",
              "      <th>1298</th>\n",
              "      <td>1.000000</td>\n",
              "      <td>0.000000</td>\n",
              "    </tr>\n",
              "    <tr>\n",
              "      <th>1299</th>\n",
              "      <td>0.982000</td>\n",
              "      <td>0.018000</td>\n",
              "    </tr>\n",
              "  </tbody>\n",
              "</table>\n",
              "<p>1300 rows × 2 columns</p>\n",
              "</div>"
            ],
            "text/plain": [
              "             0         1\n",
              "0     0.590304  0.409696\n",
              "1     1.000000  0.000000\n",
              "2     0.151588  0.848412\n",
              "3     0.000000  1.000000\n",
              "4     0.132549  0.867451\n",
              "...        ...       ...\n",
              "1295  1.000000  0.000000\n",
              "1296  0.154944  0.845056\n",
              "1297  1.000000  0.000000\n",
              "1298  1.000000  0.000000\n",
              "1299  0.982000  0.018000\n",
              "\n",
              "[1300 rows x 2 columns]"
            ]
          },
          "execution_count": 21,
          "metadata": {},
          "output_type": "execute_result"
        }
      ],
      "source": [
        "rf_proba = rf_pipeline.predict_proba(X_test)\n",
        "pd.DataFrame(rf_proba)"
      ]
    },
    {
      "cell_type": "markdown",
      "metadata": {
        "id": "_CR9j0ewsG97"
      },
      "source": [
        "The `rf_proba` array has a shape of (1300,2):\n",
        "* 1300 is a number of mushroooms in our X-test set  \n",
        "* 2 is a number of classes, in our case 0 and 1 (non-poisonous and poisonous)  \n",
        "\n",
        "The first column holds the values of probabilites for a mushroom being class 0  \n",
        "The second column holds the values of probabilites for a mushroom being class 1"
      ]
    },
    {
      "cell_type": "code",
      "execution_count": null,
      "metadata": {
        "id": "UxUKpvZAsG98"
      },
      "outputs": [],
      "source": [
        "rf_proba = rf_proba[:,1]\n",
        "# if we select only the second column we will select all probabilities for our test mushrooms to be poisonous"
      ]
    },
    {
      "cell_type": "markdown",
      "metadata": {
        "id": "dQDXsNGcsG98"
      },
      "source": [
        "## 5. ROC and threshold selection"
      ]
    },
    {
      "cell_type": "markdown",
      "metadata": {
        "id": "--bMZ3xQsG98"
      },
      "source": [
        "ROC and AUC will help us with choosing the treshold. Please, go through these links to learn about these important metrics for binary classification. It will help you understand the rest of the notebook:  \n",
        "* https://www.kaggle.com/getting-started/53782  \n",
        "* https://machinelearningmastery.com/roc-curves-and-precision-recall-curves-for-classification-in-python/  \n",
        "* https://www.youtube.com/watch?v=4jRBRDbJemM"
      ]
    },
    {
      "cell_type": "markdown",
      "metadata": {
        "id": "1cJ7tUAhsG98"
      },
      "source": [
        "The `roc_curve()` function computes the results of many models using several different thesholds, from 0 to 1. Then, it returns three arrays:\n",
        "\n",
        "1. An array with false positive rates.\n",
        "2. An array with true positive rates.\n",
        "3. An array with the threshold that determines the results obtained in the two previous arrays.\n",
        "\n",
        "More on the `roc_curve()` function here: https://scikit-learn.org/stable/modules/generated/sklearn.metrics.roc_curve.html  "
      ]
    },
    {
      "cell_type": "code",
      "execution_count": null,
      "metadata": {
        "id": "rzMIMaFssG98",
        "tags": []
      },
      "outputs": [],
      "source": [
        "from sklearn.metrics import roc_curve\n",
        "\n",
        "rf_fpr, rf_tpr, rf_threshold = roc_curve(y_test, rf_proba)"
      ]
    },
    {
      "cell_type": "markdown",
      "metadata": {
        "id": "nuxflrSIsG98"
      },
      "source": [
        "We can create a dataframe with fpr, tpr and threshold arrays that we got from roc_curve function and visualize the roc plot as well."
      ]
    },
    {
      "cell_type": "code",
      "execution_count": null,
      "metadata": {
        "colab": {
          "base_uri": "https://localhost:8080/",
          "height": 472
        },
        "id": "IRMD9DH0I3Qc",
        "outputId": "a0787c3c-4efc-4070-b9ce-cd5ab1573f07"
      },
      "outputs": [
        {
          "data": {
            "image/png": "[encoded data removed]",
            "text/plain": [
              "<Figure size 640x480 with 1 Axes>"
            ]
          },
          "metadata": {},
          "output_type": "display_data"
        }
      ],
      "source": [
        "from sklearn.metrics import roc_auc_score\n",
        "rf_auc = roc_auc_score(y_test,rf_proba)\n",
        "\n",
        "plt.plot(rf_fpr, rf_tpr, marker='.', label='Random forest (AUROC = %0.3f)' % rf_auc)\n",
        "\n",
        "# Title\n",
        "plt.title('ROC Plot')\n",
        "# Axis labels\n",
        "plt.xlabel('False Positive Rate')\n",
        "plt.ylabel('True Positive Rate')\n",
        "# Show legend\n",
        "plt.legend() #\n",
        "# Show plot\n",
        "plt.show()"
      ]
    },
    {
      "cell_type": "markdown",
      "metadata": {
        "id": "2r_vQmaGsG99"
      },
      "source": [
        "We can see on above ROC plot that True positive rate becomes 1 when False positive rate is around 0.3. Let's see what is the value of threshold when True positive rate is 1."
      ]
    },
    {
      "cell_type": "code",
      "execution_count": null,
      "metadata": {
        "colab": {
          "base_uri": "https://localhost:8080/",
          "height": 1000
        },
        "id": "5A_9ZiSjsG99",
        "outputId": "343e312e-400f-42b4-9c12-95f9fe58c556",
        "tags": []
      },
      "outputs": [
        {
          "data": {
            "text/html": [
              "<div>\n",
              "<style scoped>\n",
              "    .dataframe tbody tr th:only-of-type {\n",
              "        vertical-align: middle;\n",
              "    }\n",
              "\n",
              "    .dataframe tbody tr th {\n",
              "        vertical-align: top;\n",
              "    }\n",
              "\n",
              "    .dataframe thead th {\n",
              "        text-align: right;\n",
              "    }\n",
              "</style>\n",
              "<table border=\"1\" class=\"dataframe\">\n",
              "  <thead>\n",
              "    <tr style=\"text-align: right;\">\n",
              "      <th></th>\n",
              "      <th>fpr</th>\n",
              "      <th>tpr</th>\n",
              "      <th>threshold</th>\n",
              "    </tr>\n",
              "  </thead>\n",
              "  <tbody>\n",
              "    <tr>\n",
              "      <th>0</th>\n",
              "      <td>0.000000</td>\n",
              "      <td>0.000000</td>\n",
              "      <td>inf</td>\n",
              "    </tr>\n",
              "    <tr>\n",
              "      <th>1</th>\n",
              "      <td>0.000000</td>\n",
              "      <td>0.514867</td>\n",
              "      <td>1.000000</td>\n",
              "    </tr>\n",
              "    <tr>\n",
              "      <th>2</th>\n",
              "      <td>0.000000</td>\n",
              "      <td>0.516432</td>\n",
              "      <td>0.999478</td>\n",
              "    </tr>\n",
              "    <tr>\n",
              "      <th>3</th>\n",
              "      <td>0.000000</td>\n",
              "      <td>0.519562</td>\n",
              "      <td>0.998000</td>\n",
              "    </tr>\n",
              "    <tr>\n",
              "      <th>4</th>\n",
              "      <td>0.000000</td>\n",
              "      <td>0.532081</td>\n",
              "      <td>0.929049</td>\n",
              "    </tr>\n",
              "    <tr>\n",
              "      <th>5</th>\n",
              "      <td>0.000000</td>\n",
              "      <td>0.535211</td>\n",
              "      <td>0.914652</td>\n",
              "    </tr>\n",
              "    <tr>\n",
              "      <th>6</th>\n",
              "      <td>0.000000</td>\n",
              "      <td>0.544601</td>\n",
              "      <td>0.904460</td>\n",
              "    </tr>\n",
              "    <tr>\n",
              "      <th>7</th>\n",
              "      <td>0.006051</td>\n",
              "      <td>0.558685</td>\n",
              "      <td>0.867451</td>\n",
              "    </tr>\n",
              "    <tr>\n",
              "      <th>8</th>\n",
              "      <td>0.013616</td>\n",
              "      <td>0.574335</td>\n",
              "      <td>0.861962</td>\n",
              "    </tr>\n",
              "    <tr>\n",
              "      <th>9</th>\n",
              "      <td>0.019667</td>\n",
              "      <td>0.597809</td>\n",
              "      <td>0.848412</td>\n",
              "    </tr>\n",
              "    <tr>\n",
              "      <th>10</th>\n",
              "      <td>0.028744</td>\n",
              "      <td>0.621283</td>\n",
              "      <td>0.845056</td>\n",
              "    </tr>\n",
              "    <tr>\n",
              "      <th>11</th>\n",
              "      <td>0.034796</td>\n",
              "      <td>0.644757</td>\n",
              "      <td>0.835964</td>\n",
              "    </tr>\n",
              "    <tr>\n",
              "      <th>12</th>\n",
              "      <td>0.039334</td>\n",
              "      <td>0.672926</td>\n",
              "      <td>0.830938</td>\n",
              "    </tr>\n",
              "    <tr>\n",
              "      <th>13</th>\n",
              "      <td>0.045386</td>\n",
              "      <td>0.685446</td>\n",
              "      <td>0.829309</td>\n",
              "    </tr>\n",
              "    <tr>\n",
              "      <th>14</th>\n",
              "      <td>0.048411</td>\n",
              "      <td>0.696401</td>\n",
              "      <td>0.822100</td>\n",
              "    </tr>\n",
              "    <tr>\n",
              "      <th>15</th>\n",
              "      <td>0.048411</td>\n",
              "      <td>0.697966</td>\n",
              "      <td>0.814983</td>\n",
              "    </tr>\n",
              "    <tr>\n",
              "      <th>16</th>\n",
              "      <td>0.049924</td>\n",
              "      <td>0.719875</td>\n",
              "      <td>0.811383</td>\n",
              "    </tr>\n",
              "    <tr>\n",
              "      <th>17</th>\n",
              "      <td>0.052950</td>\n",
              "      <td>0.732394</td>\n",
              "      <td>0.810862</td>\n",
              "    </tr>\n",
              "    <tr>\n",
              "      <th>18</th>\n",
              "      <td>0.059002</td>\n",
              "      <td>0.762128</td>\n",
              "      <td>0.804077</td>\n",
              "    </tr>\n",
              "    <tr>\n",
              "      <th>19</th>\n",
              "      <td>0.062027</td>\n",
              "      <td>0.773083</td>\n",
              "      <td>0.795868</td>\n",
              "    </tr>\n",
              "    <tr>\n",
              "      <th>20</th>\n",
              "      <td>0.065053</td>\n",
              "      <td>0.791862</td>\n",
              "      <td>0.770821</td>\n",
              "    </tr>\n",
              "    <tr>\n",
              "      <th>21</th>\n",
              "      <td>0.066566</td>\n",
              "      <td>0.805947</td>\n",
              "      <td>0.768269</td>\n",
              "    </tr>\n",
              "    <tr>\n",
              "      <th>22</th>\n",
              "      <td>0.068079</td>\n",
              "      <td>0.827856</td>\n",
              "      <td>0.760822</td>\n",
              "    </tr>\n",
              "    <tr>\n",
              "      <th>23</th>\n",
              "      <td>0.074130</td>\n",
              "      <td>0.854460</td>\n",
              "      <td>0.759260</td>\n",
              "    </tr>\n",
              "    <tr>\n",
              "      <th>24</th>\n",
              "      <td>0.080182</td>\n",
              "      <td>0.868545</td>\n",
              "      <td>0.757889</td>\n",
              "    </tr>\n",
              "    <tr>\n",
              "      <th>25</th>\n",
              "      <td>0.086233</td>\n",
              "      <td>0.898279</td>\n",
              "      <td>0.725098</td>\n",
              "    </tr>\n",
              "    <tr>\n",
              "      <th>26</th>\n",
              "      <td>0.092284</td>\n",
              "      <td>0.915493</td>\n",
              "      <td>0.636311</td>\n",
              "    </tr>\n",
              "    <tr>\n",
              "      <th>27</th>\n",
              "      <td>0.096823</td>\n",
              "      <td>0.917058</td>\n",
              "      <td>0.599998</td>\n",
              "    </tr>\n",
              "    <tr>\n",
              "      <th>28</th>\n",
              "      <td>0.104387</td>\n",
              "      <td>0.931142</td>\n",
              "      <td>0.576284</td>\n",
              "    </tr>\n",
              "    <tr>\n",
              "      <th>29</th>\n",
              "      <td>0.108926</td>\n",
              "      <td>0.934272</td>\n",
              "      <td>0.572675</td>\n",
              "    </tr>\n",
              "    <tr>\n",
              "      <th>30</th>\n",
              "      <td>0.113464</td>\n",
              "      <td>0.938967</td>\n",
              "      <td>0.562532</td>\n",
              "    </tr>\n",
              "    <tr>\n",
              "      <th>31</th>\n",
              "      <td>0.114977</td>\n",
              "      <td>0.943662</td>\n",
              "      <td>0.519461</td>\n",
              "    </tr>\n",
              "    <tr>\n",
              "      <th>32</th>\n",
              "      <td>0.118003</td>\n",
              "      <td>0.946792</td>\n",
              "      <td>0.457449</td>\n",
              "    </tr>\n",
              "    <tr>\n",
              "      <th>33</th>\n",
              "      <td>0.164902</td>\n",
              "      <td>0.960876</td>\n",
              "      <td>0.409696</td>\n",
              "    </tr>\n",
              "    <tr>\n",
              "      <th>34</th>\n",
              "      <td>0.183056</td>\n",
              "      <td>0.970266</td>\n",
              "      <td>0.380196</td>\n",
              "    </tr>\n",
              "    <tr>\n",
              "      <th>35</th>\n",
              "      <td>0.198185</td>\n",
              "      <td>0.976526</td>\n",
              "      <td>0.316071</td>\n",
              "    </tr>\n",
              "    <tr>\n",
              "      <th>36</th>\n",
              "      <td>0.226929</td>\n",
              "      <td>0.985915</td>\n",
              "      <td>0.302002</td>\n",
              "    </tr>\n",
              "    <tr>\n",
              "      <th>37</th>\n",
              "      <td>0.248109</td>\n",
              "      <td>0.995305</td>\n",
              "      <td>0.296915</td>\n",
              "    </tr>\n",
              "    <tr>\n",
              "      <th>38</th>\n",
              "      <td>0.249622</td>\n",
              "      <td>0.995305</td>\n",
              "      <td>0.290000</td>\n",
              "    </tr>\n",
              "    <tr>\n",
              "      <th>39</th>\n",
              "      <td>0.249622</td>\n",
              "      <td>0.998435</td>\n",
              "      <td>0.274000</td>\n",
              "    </tr>\n",
              "    <tr>\n",
              "      <th>40</th>\n",
              "      <td>0.249622</td>\n",
              "      <td>1.000000</td>\n",
              "      <td>0.252954</td>\n",
              "    </tr>\n",
              "    <tr>\n",
              "      <th>41</th>\n",
              "      <td>0.254160</td>\n",
              "      <td>1.000000</td>\n",
              "      <td>0.245370</td>\n",
              "    </tr>\n",
              "    <tr>\n",
              "      <th>42</th>\n",
              "      <td>0.255673</td>\n",
              "      <td>1.000000</td>\n",
              "      <td>0.038485</td>\n",
              "    </tr>\n",
              "    <tr>\n",
              "      <th>43</th>\n",
              "      <td>0.261725</td>\n",
              "      <td>1.000000</td>\n",
              "      <td>0.029713</td>\n",
              "    </tr>\n",
              "    <tr>\n",
              "      <th>44</th>\n",
              "      <td>0.266263</td>\n",
              "      <td>1.000000</td>\n",
              "      <td>0.016743</td>\n",
              "    </tr>\n",
              "    <tr>\n",
              "      <th>45</th>\n",
              "      <td>0.270802</td>\n",
              "      <td>1.000000</td>\n",
              "      <td>0.011809</td>\n",
              "    </tr>\n",
              "    <tr>\n",
              "      <th>46</th>\n",
              "      <td>0.276853</td>\n",
              "      <td>1.000000</td>\n",
              "      <td>0.011267</td>\n",
              "    </tr>\n",
              "    <tr>\n",
              "      <th>47</th>\n",
              "      <td>0.278366</td>\n",
              "      <td>1.000000</td>\n",
              "      <td>0.008613</td>\n",
              "    </tr>\n",
              "    <tr>\n",
              "      <th>48</th>\n",
              "      <td>0.281392</td>\n",
              "      <td>1.000000</td>\n",
              "      <td>0.006130</td>\n",
              "    </tr>\n",
              "    <tr>\n",
              "      <th>49</th>\n",
              "      <td>0.282905</td>\n",
              "      <td>1.000000</td>\n",
              "      <td>0.005846</td>\n",
              "    </tr>\n",
              "    <tr>\n",
              "      <th>50</th>\n",
              "      <td>0.302572</td>\n",
              "      <td>1.000000</td>\n",
              "      <td>0.004000</td>\n",
              "    </tr>\n",
              "    <tr>\n",
              "      <th>51</th>\n",
              "      <td>0.305598</td>\n",
              "      <td>1.000000</td>\n",
              "      <td>0.003750</td>\n",
              "    </tr>\n",
              "    <tr>\n",
              "      <th>52</th>\n",
              "      <td>0.307110</td>\n",
              "      <td>1.000000</td>\n",
              "      <td>0.003333</td>\n",
              "    </tr>\n",
              "    <tr>\n",
              "      <th>53</th>\n",
              "      <td>0.316188</td>\n",
              "      <td>1.000000</td>\n",
              "      <td>0.001974</td>\n",
              "    </tr>\n",
              "    <tr>\n",
              "      <th>54</th>\n",
              "      <td>1.000000</td>\n",
              "      <td>1.000000</td>\n",
              "      <td>0.000000</td>\n",
              "    </tr>\n",
              "  </tbody>\n",
              "</table>\n",
              "</div>"
            ],
            "text/plain": [
              "         fpr       tpr  threshold\n",
              "0   0.000000  0.000000        inf\n",
              "1   0.000000  0.514867   1.000000\n",
              "2   0.000000  0.516432   0.999478\n",
              "3   0.000000  0.519562   0.998000\n",
              "4   0.000000  0.532081   0.929049\n",
              "5   0.000000  0.535211   0.914652\n",
              "6   0.000000  0.544601   0.904460\n",
              "7   0.006051  0.558685   0.867451\n",
              "8   0.013616  0.574335   0.861962\n",
              "9   0.019667  0.597809   0.848412\n",
              "10  0.028744  0.621283   0.845056\n",
              "11  0.034796  0.644757   0.835964\n",
              "12  0.039334  0.672926   0.830938\n",
              "13  0.045386  0.685446   0.829309\n",
              "14  0.048411  0.696401   0.822100\n",
              "15  0.048411  0.697966   0.814983\n",
              "16  0.049924  0.719875   0.811383\n",
              "17  0.052950  0.732394   0.810862\n",
              "18  0.059002  0.762128   0.804077\n",
              "19  0.062027  0.773083   0.795868\n",
              "20  0.065053  0.791862   0.770821\n",
              "21  0.066566  0.805947   0.768269\n",
              "22  0.068079  0.827856   0.760822\n",
              "23  0.074130  0.854460   0.759260\n",
              "24  0.080182  0.868545   0.757889\n",
              "25  0.086233  0.898279   0.725098\n",
              "26  0.092284  0.915493   0.636311\n",
              "27  0.096823  0.917058   0.599998\n",
              "28  0.104387  0.931142   0.576284\n",
              "29  0.108926  0.934272   0.572675\n",
              "30  0.113464  0.938967   0.562532\n",
              "31  0.114977  0.943662   0.519461\n",
              "32  0.118003  0.946792   0.457449\n",
              "33  0.164902  0.960876   0.409696\n",
              "34  0.183056  0.970266   0.380196\n",
              "35  0.198185  0.976526   0.316071\n",
              "36  0.226929  0.985915   0.302002\n",
              "37  0.248109  0.995305   0.296915\n",
              "38  0.249622  0.995305   0.290000\n",
              "39  0.249622  0.998435   0.274000\n",
              "40  0.249622  1.000000   0.252954\n",
              "41  0.254160  1.000000   0.245370\n",
              "42  0.255673  1.000000   0.038485\n",
              "43  0.261725  1.000000   0.029713\n",
              "44  0.266263  1.000000   0.016743\n",
              "45  0.270802  1.000000   0.011809\n",
              "46  0.276853  1.000000   0.011267\n",
              "47  0.278366  1.000000   0.008613\n",
              "48  0.281392  1.000000   0.006130\n",
              "49  0.282905  1.000000   0.005846\n",
              "50  0.302572  1.000000   0.004000\n",
              "51  0.305598  1.000000   0.003750\n",
              "52  0.307110  1.000000   0.003333\n",
              "53  0.316188  1.000000   0.001974\n",
              "54  1.000000  1.000000   0.000000"
            ]
          },
          "execution_count": 25,
          "metadata": {},
          "output_type": "execute_result"
        }
      ],
      "source": [
        "win_threshold = pd.DataFrame({'fpr':rf_fpr,'tpr':rf_tpr,'threshold':rf_threshold})\n",
        "win_threshold"
      ]
    },
    {
      "cell_type": "markdown",
      "metadata": {
        "id": "MQZgOR8XsG99"
      },
      "source": [
        "Lets take one row of above DataFrame to explain the values"
      ]
    },
    {
      "cell_type": "code",
      "execution_count": null,
      "metadata": {
        "colab": {
          "base_uri": "https://localhost:8080/"
        },
        "id": "UlJogi5esG99",
        "outputId": "f6df9c2f-622e-44e6-a4bb-e19a991b609f"
      },
      "outputs": [
        {
          "data": {
            "text/plain": [
              "fpr          0.048411\n",
              "tpr          0.697966\n",
              "threshold    0.814983\n",
              "Name: 15, dtype: float64"
            ]
          },
          "execution_count": 26,
          "metadata": {},
          "output_type": "execute_result"
        }
      ],
      "source": [
        "win_threshold.loc[15]"
      ]
    },
    {
      "cell_type": "markdown",
      "metadata": {
        "id": "G2n4f4nzsG99"
      },
      "source": [
        "This row means that if we set the threshold as `0.81`, the false positive rate will be `0.05` and true positive rate will be `0.7`.\n",
        "\n",
        "It means that for that theshold, 5% of all non-poisonous mushrooms will be (incorrectly) labaled as poisonous, and 70% of all poisonous mushrooms will be correctly labeled as such."
      ]
    },
    {
      "cell_type": "markdown",
      "metadata": {
        "id": "rhTtIpalsG99"
      },
      "source": [
        "Since our task is to NOT predict poisonous as non-poisonous, which means, we should have 0 False negatives, our True positive rate has to be 1 (100% of poisonous get labeled as poisonous).  \n",
        "Visually examining the above DataFrame we can se that TPR is increasing from 0 to 1 and finally reaches 1 in the row 40. In that same row, the threshold value is `0.25`, and that is the one we will choose to filter our results."
      ]
    },
    {
      "cell_type": "code",
      "execution_count": null,
      "metadata": {
        "colab": {
          "base_uri": "https://localhost:8080/"
        },
        "id": "fPtA7gxZsG99",
        "outputId": "72fbf12b-5de5-44be-9d1c-30f8bb187331",
        "tags": []
      },
      "outputs": [
        {
          "data": {
            "text/plain": [
              "np.float64(0.2529542397452717)"
            ]
          },
          "execution_count": 27,
          "metadata": {},
          "output_type": "execute_result"
        }
      ],
      "source": [
        "win_threshold_value= win_threshold.threshold[40]\n",
        "win_threshold_value"
      ]
    },
    {
      "cell_type": "markdown",
      "metadata": {
        "id": "p0Ozl9ZifVtq"
      },
      "source": [
        "We encourage you to scan the results shown above, but here's a slightly more automated way to find the best threshold:"
      ]
    },
    {
      "cell_type": "code",
      "execution_count": null,
      "metadata": {
        "colab": {
          "base_uri": "https://localhost:8080/",
          "height": 80
        },
        "id": "u2ol8lbpevgf",
        "outputId": "f2f06a27-3b35-40ce-c995-072730fc2818"
      },
      "outputs": [
        {
          "data": {
            "text/html": [
              "<div>\n",
              "<style scoped>\n",
              "    .dataframe tbody tr th:only-of-type {\n",
              "        vertical-align: middle;\n",
              "    }\n",
              "\n",
              "    .dataframe tbody tr th {\n",
              "        vertical-align: top;\n",
              "    }\n",
              "\n",
              "    .dataframe thead th {\n",
              "        text-align: right;\n",
              "    }\n",
              "</style>\n",
              "<table border=\"1\" class=\"dataframe\">\n",
              "  <thead>\n",
              "    <tr style=\"text-align: right;\">\n",
              "      <th></th>\n",
              "      <th>fpr</th>\n",
              "      <th>tpr</th>\n",
              "      <th>threshold</th>\n",
              "    </tr>\n",
              "  </thead>\n",
              "  <tbody>\n",
              "    <tr>\n",
              "      <th>40</th>\n",
              "      <td>0.249622</td>\n",
              "      <td>1.0</td>\n",
              "      <td>0.252954</td>\n",
              "    </tr>\n",
              "  </tbody>\n",
              "</table>\n",
              "</div>"
            ],
            "text/plain": [
              "         fpr  tpr  threshold\n",
              "40  0.249622  1.0   0.252954"
            ]
          },
          "execution_count": 28,
          "metadata": {},
          "output_type": "execute_result"
        }
      ],
      "source": [
        "win_threshold[win_threshold.tpr==1].sort_values(\"threshold\", ascending=False).head(1)"
      ]
    },
    {
      "cell_type": "markdown",
      "metadata": {
        "id": "nJkdKG9EsG9-"
      },
      "source": [
        "## 6. Adjusting the predictions based on treshold value - X-test"
      ]
    },
    {
      "cell_type": "markdown",
      "metadata": {
        "id": "6o8YRsmFsG9-"
      },
      "source": [
        "The following code is filtering predicted values based on the probability\n",
        "of a sample being a class 1 (of a mushroom to be poisonous) that `predicted_proba()` returned.\n",
        "\n",
        "If a value is higher than the threshold it will set prediction as 1 (poisonous). Only if a probability is lower than the threshold it will predicted as 0 (non-poisonous)."
      ]
    },
    {
      "cell_type": "code",
      "execution_count": null,
      "metadata": {
        "id": "pAkC3O5ssG9-"
      },
      "outputs": [],
      "source": [
        "predicted_proba = rf_pipeline.predict_proba(X_test)\n",
        "\n",
        "predicted = (predicted_proba [:,1] >= win_threshold_value).astype('int')"
      ]
    },
    {
      "cell_type": "code",
      "execution_count": null,
      "metadata": {
        "colab": {
          "base_uri": "https://localhost:8080/"
        },
        "id": "DX0KRn_IsG9-",
        "outputId": "d20a84de-7a2c-414f-b716-0e1b6cffc3a6"
      },
      "outputs": [
        {
          "name": "stdout",
          "output_type": "stream",
          "text": [
            "Probability: [0.40969587 0.         0.84841232 1.         0.86745138]\n",
            "Set value: [1 0 1 1 1]\n"
          ]
        }
      ],
      "source": [
        "# just the sample so you can see how values are set based on predicted_proba values:\n",
        "print(f'Probability: {predicted_proba [:5,1]}')\n",
        "print(f'Set value: {predicted[:5]}')"
      ]
    },
    {
      "cell_type": "markdown",
      "metadata": {
        "id": "t0Uj5VxesG9-"
      },
      "source": [
        "## 7. Confusion matrix of adjusted results"
      ]
    },
    {
      "cell_type": "code",
      "execution_count": null,
      "metadata": {
        "id": "PoFx6mO3sG9-"
      },
      "outputs": [],
      "source": [
        "from sklearn.metrics import confusion_matrix\n",
        "\n",
        "#Generate the confusion matrix\n",
        "cf_matrix = confusion_matrix(y_test, predicted)"
      ]
    },
    {
      "cell_type": "code",
      "execution_count": null,
      "metadata": {
        "colab": {
          "base_uri": "https://localhost:8080/",
          "height": 530
        },
        "id": "D_buqVR3sG9-",
        "outputId": "101ee601-6ebe-4377-bbb3-a7daa827674c",
        "tags": []
      },
      "outputs": [
        {
          "data": {
            "image/png": "[encoded data removed]",
            "text/plain": [
              "<Figure size 640x480 with 2 Axes>"
            ]
          },
          "metadata": {},
          "output_type": "display_data"
        }
      ],
      "source": [
        "import seaborn as sns\n",
        "\n",
        "ax = sns.heatmap(cf_matrix, annot=True, cmap='Blues', fmt='g')\n",
        "\n",
        "ax.set_title('Confusion Matrix for mushrooms\\n\\n');\n",
        "ax.set_xlabel('\\nPredicted Values')\n",
        "ax.set_ylabel('Actual Values ');\n",
        "\n",
        "## Ticket labels - List must be in alphabetical order\n",
        "ax.xaxis.set_ticklabels(['Not poisonous','Poisonous'])\n",
        "ax.yaxis.set_ticklabels(['Not poisonous','Poisonous'])\n",
        "\n",
        "## Display the visualization of the Confusion Matrix.\n",
        "plt.show()"
      ]
    },
    {
      "cell_type": "markdown",
      "metadata": {
        "id": "uV2t1-CJsG9_"
      },
      "source": [
        "## 8. Adjusting the predictions based on threshold value - test"
      ]
    },
    {
      "cell_type": "markdown",
      "metadata": {
        "id": "vRRclNHbsG9_"
      },
      "source": [
        "Now we can do the same on a real test set that we want to predict:"
      ]
    },
    {
      "cell_type": "code",
      "execution_count": null,
      "metadata": {
        "id": "ziCky3z8sG-A"
      },
      "outputs": [],
      "source": [
        "predicted_proba_test = rf_pipeline.predict_proba(mush_test)\n",
        "#predicted_test = (predicted_proba_test [:,1] >= win_threshold_value).astype('int')"
      ]
    },
    {
      "cell_type": "code",
      "execution_count": null,
      "metadata": {
        "id": "ronOY0nzqd0A"
      },
      "outputs": [],
      "source": [
        "final_score = pd.DataFrame(predicted_proba_test[:,1]).copy()"
      ]
    },
    {
      "cell_type": "code",
      "execution_count": null,
      "metadata": {
        "id": "fsKIoNabtIYf"
      },
      "outputs": [],
      "source": [
        "final_score[final_score > 0] = 1"
      ]
    },
    {
      "cell_type": "markdown",
      "metadata": {
        "id": "Hc4F99tisG-B"
      },
      "source": [
        "## 9. Creating a submission file"
      ]
    },
    {
      "cell_type": "code",
      "execution_count": null,
      "metadata": {
        "colab": {
          "base_uri": "https://localhost:8080/",
          "height": 423
        },
        "id": "Q_WVTO_YsG-B",
        "outputId": "3ffcd93a-a32d-430a-8dbd-703f6206f30e"
      },
      "outputs": [
        {
          "data": {
            "text/html": [
              "<div>\n",
              "<style scoped>\n",
              "    .dataframe tbody tr th:only-of-type {\n",
              "        vertical-align: middle;\n",
              "    }\n",
              "\n",
              "    .dataframe tbody tr th {\n",
              "        vertical-align: top;\n",
              "    }\n",
              "\n",
              "    .dataframe thead th {\n",
              "        text-align: right;\n",
              "    }\n",
              "</style>\n",
              "<table border=\"1\" class=\"dataframe\">\n",
              "  <thead>\n",
              "    <tr style=\"text-align: right;\">\n",
              "      <th></th>\n",
              "      <th>Id</th>\n",
              "      <th>poisonous</th>\n",
              "    </tr>\n",
              "  </thead>\n",
              "  <tbody>\n",
              "    <tr>\n",
              "      <th>0</th>\n",
              "      <td>5165</td>\n",
              "      <td>1.0</td>\n",
              "    </tr>\n",
              "    <tr>\n",
              "      <th>1</th>\n",
              "      <td>4281</td>\n",
              "      <td>1.0</td>\n",
              "    </tr>\n",
              "    <tr>\n",
              "      <th>2</th>\n",
              "      <td>231</td>\n",
              "      <td>1.0</td>\n",
              "    </tr>\n",
              "    <tr>\n",
              "      <th>3</th>\n",
              "      <td>3890</td>\n",
              "      <td>1.0</td>\n",
              "    </tr>\n",
              "    <tr>\n",
              "      <th>4</th>\n",
              "      <td>1521</td>\n",
              "      <td>1.0</td>\n",
              "    </tr>\n",
              "    <tr>\n",
              "      <th>...</th>\n",
              "      <td>...</td>\n",
              "      <td>...</td>\n",
              "    </tr>\n",
              "    <tr>\n",
              "      <th>1620</th>\n",
              "      <td>983</td>\n",
              "      <td>1.0</td>\n",
              "    </tr>\n",
              "    <tr>\n",
              "      <th>1621</th>\n",
              "      <td>7055</td>\n",
              "      <td>0.0</td>\n",
              "    </tr>\n",
              "    <tr>\n",
              "      <th>1622</th>\n",
              "      <td>7456</td>\n",
              "      <td>1.0</td>\n",
              "    </tr>\n",
              "    <tr>\n",
              "      <th>1623</th>\n",
              "      <td>5132</td>\n",
              "      <td>0.0</td>\n",
              "    </tr>\n",
              "    <tr>\n",
              "      <th>1624</th>\n",
              "      <td>6821</td>\n",
              "      <td>1.0</td>\n",
              "    </tr>\n",
              "  </tbody>\n",
              "</table>\n",
              "<p>1625 rows × 2 columns</p>\n",
              "</div>"
            ],
            "text/plain": [
              "        Id  poisonous\n",
              "0     5165        1.0\n",
              "1     4281        1.0\n",
              "2      231        1.0\n",
              "3     3890        1.0\n",
              "4     1521        1.0\n",
              "...    ...        ...\n",
              "1620   983        1.0\n",
              "1621  7055        0.0\n",
              "1622  7456        1.0\n",
              "1623  5132        0.0\n",
              "1624  6821        1.0\n",
              "\n",
              "[1625 rows x 2 columns]"
            ]
          },
          "execution_count": 36,
          "metadata": {},
          "output_type": "execute_result"
        }
      ],
      "source": [
        "\n",
        "submission_file = pd.DataFrame({'Id': mush_test.index, 'poisonous': final_score.iloc[:,0]})\n",
        "#submission_file = pd.DataFrame({'Id': mush_test.index, 'poisonous': pd.Series(predicted_test)})\n",
        "submission_file"
      ]
    },
    {
      "cell_type": "code",
      "execution_count": null,
      "metadata": {
        "id": "3CMfIQwzsG-B"
      },
      "outputs": [],
      "source": [
        "# submission_file.to_csv('submission.csv', index=None )"
      ]
    },
    {
      "cell_type": "code",
      "execution_count": null,
      "metadata": {
        "id": "gFdmCWLynJMU"
      },
      "outputs": [],
      "source": [
        "# from google.colab import files\n",
        "# submission_file.to_csv('submission_1.csv',index=False)\n",
        "# files.download('submission_1.csv')"
      ]
    },
    {
      "cell_type": "markdown",
      "metadata": {
        "id": "wZDWObzh2dL6"
      },
      "source": [
        "## Option with Target_Encoder"
      ]
    },
    {
      "cell_type": "markdown",
      "metadata": {
        "id": "-UUfP4Nh2kGt"
      },
      "source": [
        "First we need to update sklearn to the current version, to be able to use the Target_Encoder. After updating it's mandatory to restart."
      ]
    },
    {
      "cell_type": "code",
      "execution_count": null,
      "metadata": {
        "id": "Z2KWZsHgqxUF"
      },
      "outputs": [],
      "source": [
        "# !pip uninstall scikit-learn -y\n",
        "# !pip install -U scikit-learn"
      ]
    },
    {
      "cell_type": "code",
      "execution_count": null,
      "metadata": {
        "colab": {
          "base_uri": "https://localhost:8080/",
          "height": 35
        },
        "id": "6CS40hrgz2R1",
        "outputId": "b488f826-e49d-4212-ffeb-25ff5985b09b"
      },
      "outputs": [
        {
          "data": {
            "text/plain": [
              "'1.5.0'"
            ]
          },
          "execution_count": 40,
          "metadata": {},
          "output_type": "execute_result"
        }
      ],
      "source": [
        "import sklearn\n",
        "sklearn.__version__"
      ]
    },
    {
      "cell_type": "code",
      "execution_count": null,
      "metadata": {
        "id": "-6J7tSgOz87l"
      },
      "outputs": [],
      "source": [
        "from sklearn.preprocessing import TargetEncoder"
      ]
    },
    {
      "cell_type": "markdown",
      "metadata": {
        "id": "jxP5OYTZ24zW"
      },
      "source": [
        "Pipeline and Model"
      ]
    },
    {
      "cell_type": "code",
      "execution_count": null,
      "metadata": {
        "colab": {
          "base_uri": "https://localhost:8080/"
        },
        "id": "jpWhzrXGnQGx",
        "outputId": "e9dd0e9b-6c52-4500-ac5c-f265ae426a4e"
      },
      "outputs": [
        {
          "data": {
            "text/plain": [
              "np.float64(0.7116564417177914)"
            ]
          },
          "execution_count": 42,
          "metadata": {},
          "output_type": "execute_result"
        }
      ],
      "source": [
        "mush.loc[mush[\"cap.shape\"] ==\"k\", \"poisonous\"].mean()"
      ]
    },
    {
      "cell_type": "code",
      "execution_count": null,
      "metadata": {
        "id": "mzKs5Kd-0EYt"
      },
      "outputs": [],
      "source": [
        "new_pipe = make_pipeline(TargetEncoder(smooth=\"auto\"),\n",
        "                         RandomForestClassifier(n_estimators=500, random_state=123))"
      ]
    },
    {
      "cell_type": "code",
      "execution_count": null,
      "metadata": {
        "colab": {
          "base_uri": "https://localhost:8080/",
          "height": 141
        },
        "id": "Yoqcvskf0qC1",
        "outputId": "1f07e72d-3b13-4de0-87be-649b05bfefe1"
      },
      "outputs": [
        {
          "data": {
            "text/html": [
              "<style>#sk-container-id-1 {\n",
              "  /* Definition of color scheme common for light and dark mode */\n",
              "  --sklearn-color-text: black;\n",
              "  --sklearn-color-line: gray;\n",
              "  /* Definition of color scheme for unfitted estimators */\n",
              "  --sklearn-color-unfitted-level-0: #fff5e6;\n",
              "  --sklearn-color-unfitted-level-1: #f6e4d2;\n",
              "  --sklearn-color-unfitted-level-2: #ffe0b3;\n",
              "  --sklearn-color-unfitted-level-3: chocolate;\n",
              "  /* Definition of color scheme for fitted estimators */\n",
              "  --sklearn-color-fitted-level-0: #f0f8ff;\n",
              "  --sklearn-color-fitted-level-1: #d4ebff;\n",
              "  --sklearn-color-fitted-level-2: #b3dbfd;\n",
              "  --sklearn-color-fitted-level-3: cornflowerblue;\n",
              "\n",
              "  /* Specific color for light theme */\n",
              "  --sklearn-color-text-on-default-background: var(--sg-text-color, var(--theme-code-foreground, var(--jp-content-font-color1, black)));\n",
              "  --sklearn-color-background: var(--sg-background-color, var(--theme-background, var(--jp-layout-color0, white)));\n",
              "  --sklearn-color-border-box: var(--sg-text-color, var(--theme-code-foreground, var(--jp-content-font-color1, black)));\n",
              "  --sklearn-color-icon: #696969;\n",
              "\n",
              "  @media (prefers-color-scheme: dark) {\n",
              "    /* Redefinition of color scheme for dark theme */\n",
              "    --sklearn-color-text-on-default-background: var(--sg-text-color, var(--theme-code-foreground, var(--jp-content-font-color1, white)));\n",
              "    --sklearn-color-background: var(--sg-background-color, var(--theme-background, var(--jp-layout-color0, #111)));\n",
              "    --sklearn-color-border-box: var(--sg-text-color, var(--theme-code-foreground, var(--jp-content-font-color1, white)));\n",
              "    --sklearn-color-icon: #878787;\n",
              "  }\n",
              "}\n",
              "\n",
              "#sk-container-id-1 {\n",
              "  color: var(--sklearn-color-text);\n",
              "}\n",
              "\n",
              "#sk-container-id-1 pre {\n",
              "  padding: 0;\n",
              "}\n",
              "\n",
              "#sk-container-id-1 input.sk-hidden--visually {\n",
              "  border: 0;\n",
              "  clip: rect(1px 1px 1px 1px);\n",
              "  clip: rect(1px, 1px, 1px, 1px);\n",
              "  height: 1px;\n",
              "  margin: -1px;\n",
              "  overflow: hidden;\n",
              "  padding: 0;\n",
              "  position: absolute;\n",
              "  width: 1px;\n",
              "}\n",
              "\n",
              "#sk-container-id-1 div.sk-dashed-wrapped {\n",
              "  border: 1px dashed var(--sklearn-color-line);\n",
              "  margin: 0 0.4em 0.5em 0.4em;\n",
              "  box-sizing: border-box;\n",
              "  padding-bottom: 0.4em;\n",
              "  background-color: var(--sklearn-color-background);\n",
              "}\n",
              "\n",
              "#sk-container-id-1 div.sk-container {\n",
              "  /* jupyter's `normalize.less` sets `[hidden] { display: none; }`\n",
              "     but bootstrap.min.css set `[hidden] { display: none !important; }`\n",
              "     so we also need the `!important` here to be able to override the\n",
              "     default hidden behavior on the sphinx rendered scikit-learn.org.\n",
              "     See: https://github.com/scikit-learn/scikit-learn/issues/21755 */\n",
              "  display: inline-block !important;\n",
              "  position: relative;\n",
              "}\n",
              "\n",
              "#sk-container-id-1 div.sk-text-repr-fallback {\n",
              "  display: none;\n",
              "}\n",
              "\n",
              "div.sk-parallel-item,\n",
              "div.sk-serial,\n",
              "div.sk-item {\n",
              "  /* draw centered vertical line to link estimators */\n",
              "  background-image: linear-gradient(var(--sklearn-color-text-on-default-background), var(--sklearn-color-text-on-default-background));\n",
              "  background-size: 2px 100%;\n",
              "  background-repeat: no-repeat;\n",
              "  background-position: center center;\n",
              "}\n",
              "\n",
              "/* Parallel-specific style estimator block */\n",
              "\n",
              "#sk-container-id-1 div.sk-parallel-item::after {\n",
              "  content: \"\";\n",
              "  width: 100%;\n",
              "  border-bottom: 2px solid var(--sklearn-color-text-on-default-background);\n",
              "  flex-grow: 1;\n",
              "}\n",
              "\n",
              "#sk-container-id-1 div.sk-parallel {\n",
              "  display: flex;\n",
              "  align-items: stretch;\n",
              "  justify-content: center;\n",
              "  background-color: var(--sklearn-color-background);\n",
              "  position: relative;\n",
              "}\n",
              "\n",
              "#sk-container-id-1 div.sk-parallel-item {\n",
              "  display: flex;\n",
              "  flex-direction: column;\n",
              "}\n",
              "\n",
              "#sk-container-id-1 div.sk-parallel-item:first-child::after {\n",
              "  align-self: flex-end;\n",
              "  width: 50%;\n",
              "}\n",
              "\n",
              "#sk-container-id-1 div.sk-parallel-item:last-child::after {\n",
              "  align-self: flex-start;\n",
              "  width: 50%;\n",
              "}\n",
              "\n",
              "#sk-container-id-1 div.sk-parallel-item:only-child::after {\n",
              "  width: 0;\n",
              "}\n",
              "\n",
              "/* Serial-specific style estimator block */\n",
              "\n",
              "#sk-container-id-1 div.sk-serial {\n",
              "  display: flex;\n",
              "  flex-direction: column;\n",
              "  align-items: center;\n",
              "  background-color: var(--sklearn-color-background);\n",
              "  padding-right: 1em;\n",
              "  padding-left: 1em;\n",
              "}\n",
              "\n",
              "\n",
              "/* Toggleable style: style used for estimator/Pipeline/ColumnTransformer box that is\n",
              "clickable and can be expanded/collapsed.\n",
              "- Pipeline and ColumnTransformer use this feature and define the default style\n",
              "- Estimators will overwrite some part of the style using the `sk-estimator` class\n",
              "*/\n",
              "\n",
              "/* Pipeline and ColumnTransformer style (default) */\n",
              "\n",
              "#sk-container-id-1 div.sk-toggleable {\n",
              "  /* Default theme specific background. It is overwritten whether we have a\n",
              "  specific estimator or a Pipeline/ColumnTransformer */\n",
              "  background-color: var(--sklearn-color-background);\n",
              "}\n",
              "\n",
              "/* Toggleable label */\n",
              "#sk-container-id-1 label.sk-toggleable__label {\n",
              "  cursor: pointer;\n",
              "  display: block;\n",
              "  width: 100%;\n",
              "  margin-bottom: 0;\n",
              "  padding: 0.5em;\n",
              "  box-sizing: border-box;\n",
              "  text-align: center;\n",
              "}\n",
              "\n",
              "#sk-container-id-1 label.sk-toggleable__label-arrow:before {\n",
              "  /* Arrow on the left of the label */\n",
              "  content: \"▸\";\n",
              "  float: left;\n",
              "  margin-right: 0.25em;\n",
              "  color: var(--sklearn-color-icon);\n",
              "}\n",
              "\n",
              "#sk-container-id-1 label.sk-toggleable__label-arrow:hover:before {\n",
              "  color: var(--sklearn-color-text);\n",
              "}\n",
              "\n",
              "/* Toggleable content - dropdown */\n",
              "\n",
              "#sk-container-id-1 div.sk-toggleable__content {\n",
              "  max-height: 0;\n",
              "  max-width: 0;\n",
              "  overflow: hidden;\n",
              "  text-align: left;\n",
              "  /* unfitted */\n",
              "  background-color: var(--sklearn-color-unfitted-level-0);\n",
              "}\n",
              "\n",
              "#sk-container-id-1 div.sk-toggleable__content.fitted {\n",
              "  /* fitted */\n",
              "  background-color: var(--sklearn-color-fitted-level-0);\n",
              "}\n",
              "\n",
              "#sk-container-id-1 div.sk-toggleable__content pre {\n",
              "  margin: 0.2em;\n",
              "  border-radius: 0.25em;\n",
              "  color: var(--sklearn-color-text);\n",
              "  /* unfitted */\n",
              "  background-color: var(--sklearn-color-unfitted-level-0);\n",
              "}\n",
              "\n",
              "#sk-container-id-1 div.sk-toggleable__content.fitted pre {\n",
              "  /* unfitted */\n",
              "  background-color: var(--sklearn-color-fitted-level-0);\n",
              "}\n",
              "\n",
              "#sk-container-id-1 input.sk-toggleable__control:checked~div.sk-toggleable__content {\n",
              "  /* Expand drop-down */\n",
              "  max-height: 200px;\n",
              "  max-width: 100%;\n",
              "  overflow: auto;\n",
              "}\n",
              "\n",
              "#sk-container-id-1 input.sk-toggleable__control:checked~label.sk-toggleable__label-arrow:before {\n",
              "  content: \"▾\";\n",
              "}\n",
              "\n",
              "/* Pipeline/ColumnTransformer-specific style */\n",
              "\n",
              "#sk-container-id-1 div.sk-label input.sk-toggleable__control:checked~label.sk-toggleable__label {\n",
              "  color: var(--sklearn-color-text);\n",
              "  background-color: var(--sklearn-color-unfitted-level-2);\n",
              "}\n",
              "\n",
              "#sk-container-id-1 div.sk-label.fitted input.sk-toggleable__control:checked~label.sk-toggleable__label {\n",
              "  background-color: var(--sklearn-color-fitted-level-2);\n",
              "}\n",
              "\n",
              "/* Estimator-specific style */\n",
              "\n",
              "/* Colorize estimator box */\n",
              "#sk-container-id-1 div.sk-estimator input.sk-toggleable__control:checked~label.sk-toggleable__label {\n",
              "  /* unfitted */\n",
              "  background-color: var(--sklearn-color-unfitted-level-2);\n",
              "}\n",
              "\n",
              "#sk-container-id-1 div.sk-estimator.fitted input.sk-toggleable__control:checked~label.sk-toggleable__label {\n",
              "  /* fitted */\n",
              "  background-color: var(--sklearn-color-fitted-level-2);\n",
              "}\n",
              "\n",
              "#sk-container-id-1 div.sk-label label.sk-toggleable__label,\n",
              "#sk-container-id-1 div.sk-label label {\n",
              "  /* The background is the default theme color */\n",
              "  color: var(--sklearn-color-text-on-default-background);\n",
              "}\n",
              "\n",
              "/* On hover, darken the color of the background */\n",
              "#sk-container-id-1 div.sk-label:hover label.sk-toggleable__label {\n",
              "  color: var(--sklearn-color-text);\n",
              "  background-color: var(--sklearn-color-unfitted-level-2);\n",
              "}\n",
              "\n",
              "/* Label box, darken color on hover, fitted */\n",
              "#sk-container-id-1 div.sk-label.fitted:hover label.sk-toggleable__label.fitted {\n",
              "  color: var(--sklearn-color-text);\n",
              "  background-color: var(--sklearn-color-fitted-level-2);\n",
              "}\n",
              "\n",
              "/* Estimator label */\n",
              "\n",
              "#sk-container-id-1 div.sk-label label {\n",
              "  font-family: monospace;\n",
              "  font-weight: bold;\n",
              "  display: inline-block;\n",
              "  line-height: 1.2em;\n",
              "}\n",
              "\n",
              "#sk-container-id-1 div.sk-label-container {\n",
              "  text-align: center;\n",
              "}\n",
              "\n",
              "/* Estimator-specific */\n",
              "#sk-container-id-1 div.sk-estimator {\n",
              "  font-family: monospace;\n",
              "  border: 1px dotted var(--sklearn-color-border-box);\n",
              "  border-radius: 0.25em;\n",
              "  box-sizing: border-box;\n",
              "  margin-bottom: 0.5em;\n",
              "  /* unfitted */\n",
              "  background-color: var(--sklearn-color-unfitted-level-0);\n",
              "}\n",
              "\n",
              "#sk-container-id-1 div.sk-estimator.fitted {\n",
              "  /* fitted */\n",
              "  background-color: var(--sklearn-color-fitted-level-0);\n",
              "}\n",
              "\n",
              "/* on hover */\n",
              "#sk-container-id-1 div.sk-estimator:hover {\n",
              "  /* unfitted */\n",
              "  background-color: var(--sklearn-color-unfitted-level-2);\n",
              "}\n",
              "\n",
              "#sk-container-id-1 div.sk-estimator.fitted:hover {\n",
              "  /* fitted */\n",
              "  background-color: var(--sklearn-color-fitted-level-2);\n",
              "}\n",
              "\n",
              "/* Specification for estimator info (e.g. \"i\" and \"?\") */\n",
              "\n",
              "/* Common style for \"i\" and \"?\" */\n",
              "\n",
              ".sk-estimator-doc-link,\n",
              "a:link.sk-estimator-doc-link,\n",
              "a:visited.sk-estimator-doc-link {\n",
              "  float: right;\n",
              "  font-size: smaller;\n",
              "  line-height: 1em;\n",
              "  font-family: monospace;\n",
              "  background-color: var(--sklearn-color-background);\n",
              "  border-radius: 1em;\n",
              "  height: 1em;\n",
              "  width: 1em;\n",
              "  text-decoration: none !important;\n",
              "  margin-left: 1ex;\n",
              "  /* unfitted */\n",
              "  border: var(--sklearn-color-unfitted-level-1) 1pt solid;\n",
              "  color: var(--sklearn-color-unfitted-level-1);\n",
              "}\n",
              "\n",
              ".sk-estimator-doc-link.fitted,\n",
              "a:link.sk-estimator-doc-link.fitted,\n",
              "a:visited.sk-estimator-doc-link.fitted {\n",
              "  /* fitted */\n",
              "  border: var(--sklearn-color-fitted-level-1) 1pt solid;\n",
              "  color: var(--sklearn-color-fitted-level-1);\n",
              "}\n",
              "\n",
              "/* On hover */\n",
              "div.sk-estimator:hover .sk-estimator-doc-link:hover,\n",
              ".sk-estimator-doc-link:hover,\n",
              "div.sk-label-container:hover .sk-estimator-doc-link:hover,\n",
              ".sk-estimator-doc-link:hover {\n",
              "  /* unfitted */\n",
              "  background-color: var(--sklearn-color-unfitted-level-3);\n",
              "  color: var(--sklearn-color-background);\n",
              "  text-decoration: none;\n",
              "}\n",
              "\n",
              "div.sk-estimator.fitted:hover .sk-estimator-doc-link.fitted:hover,\n",
              ".sk-estimator-doc-link.fitted:hover,\n",
              "div.sk-label-container:hover .sk-estimator-doc-link.fitted:hover,\n",
              ".sk-estimator-doc-link.fitted:hover {\n",
              "  /* fitted */\n",
              "  background-color: var(--sklearn-color-fitted-level-3);\n",
              "  color: var(--sklearn-color-background);\n",
              "  text-decoration: none;\n",
              "}\n",
              "\n",
              "/* Span, style for the box shown on hovering the info icon */\n",
              ".sk-estimator-doc-link span {\n",
              "  display: none;\n",
              "  z-index: 9999;\n",
              "  position: relative;\n",
              "  font-weight: normal;\n",
              "  right: .2ex;\n",
              "  padding: .5ex;\n",
              "  margin: .5ex;\n",
              "  width: min-content;\n",
              "  min-width: 20ex;\n",
              "  max-width: 50ex;\n",
              "  color: var(--sklearn-color-text);\n",
              "  box-shadow: 2pt 2pt 4pt #999;\n",
              "  /* unfitted */\n",
              "  background: var(--sklearn-color-unfitted-level-0);\n",
              "  border: .5pt solid var(--sklearn-color-unfitted-level-3);\n",
              "}\n",
              "\n",
              ".sk-estimator-doc-link.fitted span {\n",
              "  /* fitted */\n",
              "  background: var(--sklearn-color-fitted-level-0);\n",
              "  border: var(--sklearn-color-fitted-level-3);\n",
              "}\n",
              "\n",
              ".sk-estimator-doc-link:hover span {\n",
              "  display: block;\n",
              "}\n",
              "\n",
              "/* \"?\"-specific style due to the `<a>` HTML tag */\n",
              "\n",
              "#sk-container-id-1 a.estimator_doc_link {\n",
              "  float: right;\n",
              "  font-size: 1rem;\n",
              "  line-height: 1em;\n",
              "  font-family: monospace;\n",
              "  background-color: var(--sklearn-color-background);\n",
              "  border-radius: 1rem;\n",
              "  height: 1rem;\n",
              "  width: 1rem;\n",
              "  text-decoration: none;\n",
              "  /* unfitted */\n",
              "  color: var(--sklearn-color-unfitted-level-1);\n",
              "  border: var(--sklearn-color-unfitted-level-1) 1pt solid;\n",
              "}\n",
              "\n",
              "#sk-container-id-1 a.estimator_doc_link.fitted {\n",
              "  /* fitted */\n",
              "  border: var(--sklearn-color-fitted-level-1) 1pt solid;\n",
              "  color: var(--sklearn-color-fitted-level-1);\n",
              "}\n",
              "\n",
              "/* On hover */\n",
              "#sk-container-id-1 a.estimator_doc_link:hover {\n",
              "  /* unfitted */\n",
              "  background-color: var(--sklearn-color-unfitted-level-3);\n",
              "  color: var(--sklearn-color-background);\n",
              "  text-decoration: none;\n",
              "}\n",
              "\n",
              "#sk-container-id-1 a.estimator_doc_link.fitted:hover {\n",
              "  /* fitted */\n",
              "  background-color: var(--sklearn-color-fitted-level-3);\n",
              "}\n",
              "</style><div id=\"sk-container-id-1\" class=\"sk-top-container\"><div class=\"sk-text-repr-fallback\"><pre>Pipeline(steps=[(&#x27;targetencoder&#x27;, TargetEncoder()),\n",
              "                (&#x27;randomforestclassifier&#x27;,\n",
              "                 RandomForestClassifier(n_estimators=500, random_state=123))])</pre><b>In a Jupyter environment, please rerun this cell to show the HTML representation or trust the notebook. <br />On GitHub, the HTML representation is unable to render, please try loading this page with nbviewer.org.</b></div><div class=\"sk-container\" hidden><div class=\"sk-item sk-dashed-wrapped\"><div class=\"sk-label-container\"><div class=\"sk-label fitted sk-toggleable\"><input class=\"sk-toggleable__control sk-hidden--visually\" id=\"sk-estimator-id-1\" type=\"checkbox\" ><label for=\"sk-estimator-id-1\" class=\"sk-toggleable__label fitted sk-toggleable__label-arrow fitted\">&nbsp;&nbsp;Pipeline<a class=\"sk-estimator-doc-link fitted\" rel=\"noreferrer\" target=\"_blank\" href=\"https://scikit-learn.org/1.5/modules/generated/sklearn.pipeline.Pipeline.html\">?<span>Documentation for Pipeline</span></a><span class=\"sk-estimator-doc-link fitted\">i<span>Fitted</span></span></label><div class=\"sk-toggleable__content fitted\"><pre>Pipeline(steps=[(&#x27;targetencoder&#x27;, TargetEncoder()),\n",
              "                (&#x27;randomforestclassifier&#x27;,\n",
              "                 RandomForestClassifier(n_estimators=500, random_state=123))])</pre></div> </div></div><div class=\"sk-serial\"><div class=\"sk-item\"><div class=\"sk-estimator fitted sk-toggleable\"><input class=\"sk-toggleable__control sk-hidden--visually\" id=\"sk-estimator-id-2\" type=\"checkbox\" ><label for=\"sk-estimator-id-2\" class=\"sk-toggleable__label fitted sk-toggleable__label-arrow fitted\">&nbsp;TargetEncoder<a class=\"sk-estimator-doc-link fitted\" rel=\"noreferrer\" target=\"_blank\" href=\"https://scikit-learn.org/1.5/modules/generated/sklearn.preprocessing.TargetEncoder.html\">?<span>Documentation for TargetEncoder</span></a></label><div class=\"sk-toggleable__content fitted\"><pre>TargetEncoder()</pre></div> </div></div><div class=\"sk-item\"><div class=\"sk-estimator fitted sk-toggleable\"><input class=\"sk-toggleable__control sk-hidden--visually\" id=\"sk-estimator-id-3\" type=\"checkbox\" ><label for=\"sk-estimator-id-3\" class=\"sk-toggleable__label fitted sk-toggleable__label-arrow fitted\">&nbsp;RandomForestClassifier<a class=\"sk-estimator-doc-link fitted\" rel=\"noreferrer\" target=\"_blank\" href=\"https://scikit-learn.org/1.5/modules/generated/sklearn.ensemble.RandomForestClassifier.html\">?<span>Documentation for RandomForestClassifier</span></a></label><div class=\"sk-toggleable__content fitted\"><pre>RandomForestClassifier(n_estimators=500, random_state=123)</pre></div> </div></div></div></div></div></div>"
            ],
            "text/plain": [
              "Pipeline(steps=[('targetencoder', TargetEncoder()),\n",
              "                ('randomforestclassifier',\n",
              "                 RandomForestClassifier(n_estimators=500, random_state=123))])"
            ]
          },
          "execution_count": 44,
          "metadata": {},
          "output_type": "execute_result"
        }
      ],
      "source": [
        "new_pipe.fit(X_train, y_train)"
      ]
    },
    {
      "cell_type": "markdown",
      "metadata": {
        "id": "JtAkFS-027GE"
      },
      "source": [
        "Use model for the unseen data"
      ]
    },
    {
      "cell_type": "code",
      "execution_count": null,
      "metadata": {
        "id": "_X9GwLLd1isF"
      },
      "outputs": [],
      "source": [
        "# the order of columns need to change\n",
        "order_of_columns = X.columns.to_list()\n",
        "mush_test = mush_test[order_of_columns]"
      ]
    },
    {
      "cell_type": "code",
      "execution_count": null,
      "metadata": {
        "id": "daNcNqat07Ce"
      },
      "outputs": [],
      "source": [
        "# predict values for unseen data\n",
        "target_score_proba = new_pipe.predict_proba(mush_test)"
      ]
    },
    {
      "cell_type": "markdown",
      "metadata": {
        "id": "tubQptcx3IU2"
      },
      "source": [
        "Create the submission file and download"
      ]
    },
    {
      "cell_type": "code",
      "execution_count": null,
      "metadata": {
        "id": "gh8Ae4hn1GaV"
      },
      "outputs": [],
      "source": [
        "final_score = pd.DataFrame(target_score_proba[:,1]).copy()"
      ]
    },
    {
      "cell_type": "code",
      "execution_count": null,
      "metadata": {
        "id": "wajrozeu17Cr"
      },
      "outputs": [],
      "source": [
        "final_score[final_score > 0] = 1"
      ]
    },
    {
      "cell_type": "code",
      "execution_count": null,
      "metadata": {
        "colab": {
          "base_uri": "https://localhost:8080/",
          "height": 143
        },
        "id": "qgIWHY9K1-7P",
        "outputId": "82fd65ec-4c84-4d46-c1a1-ca595910beea"
      },
      "outputs": [
        {
          "data": {
            "text/html": [
              "<div>\n",
              "<style scoped>\n",
              "    .dataframe tbody tr th:only-of-type {\n",
              "        vertical-align: middle;\n",
              "    }\n",
              "\n",
              "    .dataframe tbody tr th {\n",
              "        vertical-align: top;\n",
              "    }\n",
              "\n",
              "    .dataframe thead th {\n",
              "        text-align: right;\n",
              "    }\n",
              "</style>\n",
              "<table border=\"1\" class=\"dataframe\">\n",
              "  <thead>\n",
              "    <tr style=\"text-align: right;\">\n",
              "      <th></th>\n",
              "      <th>Id</th>\n",
              "      <th>poisonous</th>\n",
              "    </tr>\n",
              "  </thead>\n",
              "  <tbody>\n",
              "    <tr>\n",
              "      <th>1622</th>\n",
              "      <td>7456</td>\n",
              "      <td>1.0</td>\n",
              "    </tr>\n",
              "    <tr>\n",
              "      <th>1623</th>\n",
              "      <td>5132</td>\n",
              "      <td>1.0</td>\n",
              "    </tr>\n",
              "    <tr>\n",
              "      <th>1624</th>\n",
              "      <td>6821</td>\n",
              "      <td>1.0</td>\n",
              "    </tr>\n",
              "  </tbody>\n",
              "</table>\n",
              "</div>"
            ],
            "text/plain": [
              "        Id  poisonous\n",
              "1622  7456        1.0\n",
              "1623  5132        1.0\n",
              "1624  6821        1.0"
            ]
          },
          "execution_count": 49,
          "metadata": {},
          "output_type": "execute_result"
        }
      ],
      "source": [
        "submission_file = pd.DataFrame({'Id': mush_test.index, 'poisonous': final_score.iloc[:,0]})\n",
        "submission_file.tail(3)"
      ]
    },
    {
      "cell_type": "code",
      "execution_count": null,
      "metadata": {
        "id": "yjBB9Vbl2Czv"
      },
      "outputs": [],
      "source": [
        "# from google.colab import files\n",
        "# submission_file.to_csv('submission_2.csv',index=False)\n",
        "# files.download('submission_2.csv')"
      ]
    },
    {
      "cell_type": "markdown",
      "metadata": {
        "id": "8TJK-xfsKGsG"
      },
      "source": [
        "🥳 Happy mushroom dinner!"
      ]
    },
    {
      "cell_type": "markdown",
      "metadata": {
        "id": "1-SX5ABvokPz"
      },
      "source": [
        "**And for more inspiration...**\n",
        "\n",
        "You could search on how to use weights in your pipelines / models."
      ]
    },
    {
      "cell_type": "code",
      "execution_count": null,
      "metadata": {
        "id": "dkZi9BsonAgE"
      },
      "outputs": [],
      "source": []
    },
    {
      "cell_type": "markdown",
      "metadata": {
        "id": "0-lGQJ5bTuBW"
      },
      "source": [
        "## Option with TunedThresholdClassifierCV"
      ]
    },
    {
      "cell_type": "markdown",
      "metadata": {
        "id": "TmDB4-_CTuBX"
      },
      "source": [
        "TunedThresholdClassifierCV is a scikit-learn class introduced in [version 1.5](https://scikit-learn.org/stable/auto_examples/release_highlights/plot_release_highlights_1_5_0.html) that simplifies the process of optimizing decision thresholds for binary classification tasks 🚀. Here's how it works:\n",
        "\n",
        "- It takes a **base classifier** (estimator) that can predict class probabilities as input, along with the **scoring metric** to optimize (e.g., **f1**, **roc_auc**).\n",
        "- It performs **cross-validation** on the training data, trying out different decision threshold values for mapping predicted probabilities to class labels.\n",
        "- For each threshold, it computes the specified scoring metric using the **true labels** and the **thresholded predicted labels**.\n",
        "- It selects the threshold that maximizes the scoring metric and refits the base classifier on the full training set.\n",
        "- The fitted **TunedThresholdClassifierCV** object can then be used to make predictions, automatically applying the optimal threshold to the predicted probabilities. 🔍"
      ]
    },
    {
      "cell_type": "code",
      "execution_count": null,
      "metadata": {
        "id": "KJrOUd-LTuBX"
      },
      "outputs": [],
      "source": [
        "from sklearn.model_selection import TunedThresholdClassifierCV\n",
        "from sklearn.metrics import recall_score, accuracy_score, make_scorer"
      ]
    },
    {
      "cell_type": "markdown",
      "metadata": {
        "id": "Q1xeCq0kTuBX"
      },
      "source": [
        "Remember that our primary goal is to minimize false negatives (poisonous mushrooms classified as edible), as they can have severe consequences. To achieve this, we'll create a custom scoring function that assigns higher weight to recall compared to accuracy. This way, the model will prioritize correctly identifying poisonous mushrooms over overall accuracy."
      ]
    },
    {
      "cell_type": "code",
      "execution_count": null,
      "metadata": {
        "id": "5acGhD6nTuBX"
      },
      "outputs": [],
      "source": [
        "def recall_accuracy_scorer(y_true, y_pred):\n",
        "    recall = recall_score(y_true, y_pred, pos_label=1)\n",
        "    accuracy = accuracy_score(y_true,y_pred)\n",
        "    combined_score = 0.8 * recall + 0.2 * accuracy  # Adjust weights as needed\n",
        "    return combined_score\n",
        "\n",
        "combined_scorer = make_scorer(recall_accuracy_scorer)"
      ]
    },
    {
      "cell_type": "markdown",
      "metadata": {
        "id": "v0KRwTdMTuBX"
      },
      "source": [
        "Here, we define a `recall_accuracy_scorer` function that calculates both recall and accuracy, and returns a weighted combination of the two. We assign a higher weight (0.8) to recall to prioritize minimizing false negatives. We then create a scorer object using `make_scorer`[1](https://www.geeksforgeeks.org/how-to-use-scikit-learns-tunedthresholdclassifiercv-for-threshold-optimization/)[&2](https://stackoverflow.com/questions/32401493/how-to-create-customize-your-own-scorer-function-in-scikit-learn)"
      ]
    },
    {
      "cell_type": "markdown",
      "metadata": {
        "id": "1-SDLLRWTuBX"
      },
      "source": [
        "We can now use the `TunedThresholdClassifierCV` class with the `RandomForestClassifier` as the base estimator and our custom scorer to optimize the decision threshold. We'll fit the model on the training data as well.\n"
      ]
    },
    {
      "cell_type": "code",
      "execution_count": null,
      "metadata": {
        "id": "nineZnDhTuBX"
      },
      "outputs": [],
      "source": [
        "tuned_model = TunedThresholdClassifierCV(\n",
        "    estimator=rf_pipeline,\n",
        "    scoring=combined_scorer,\n",
        "    store_cv_results=True  # necessary to inspect all results\n",
        ")\n",
        "\n",
        "_ = tuned_model.fit(X_train, y_train)"
      ]
    },
    {
      "cell_type": "code",
      "execution_count": null,
      "metadata": {
        "id": "uTaYUMUMTuBX",
        "outputId": "dbfd9f2a-8a1d-4783-91db-5b002ecce3e2"
      },
      "outputs": [
        {
          "data": {
            "text/html": [
              "<div>\n",
              "<style scoped>\n",
              "    .dataframe tbody tr th:only-of-type {\n",
              "        vertical-align: middle;\n",
              "    }\n",
              "\n",
              "    .dataframe tbody tr th {\n",
              "        vertical-align: top;\n",
              "    }\n",
              "\n",
              "    .dataframe thead th {\n",
              "        text-align: right;\n",
              "    }\n",
              "</style>\n",
              "<table border=\"1\" class=\"dataframe\">\n",
              "  <thead>\n",
              "    <tr style=\"text-align: right;\">\n",
              "      <th></th>\n",
              "      <th>thresholds</th>\n",
              "      <th>scores</th>\n",
              "    </tr>\n",
              "  </thead>\n",
              "  <tbody>\n",
              "    <tr>\n",
              "      <th>0</th>\n",
              "      <td>0.000000</td>\n",
              "      <td>0.896865</td>\n",
              "    </tr>\n",
              "    <tr>\n",
              "      <th>1</th>\n",
              "      <td>0.010101</td>\n",
              "      <td>0.972100</td>\n",
              "    </tr>\n",
              "    <tr>\n",
              "      <th>2</th>\n",
              "      <td>0.020202</td>\n",
              "      <td>0.973061</td>\n",
              "    </tr>\n",
              "    <tr>\n",
              "      <th>3</th>\n",
              "      <td>0.030303</td>\n",
              "      <td>0.973321</td>\n",
              "    </tr>\n",
              "    <tr>\n",
              "      <th>4</th>\n",
              "      <td>0.040404</td>\n",
              "      <td>0.973436</td>\n",
              "    </tr>\n",
              "    <tr>\n",
              "      <th>5</th>\n",
              "      <td>0.050505</td>\n",
              "      <td>0.973744</td>\n",
              "    </tr>\n",
              "    <tr>\n",
              "      <th>6</th>\n",
              "      <td>0.060606</td>\n",
              "      <td>0.973898</td>\n",
              "    </tr>\n",
              "    <tr>\n",
              "      <th>7</th>\n",
              "      <td>0.070707</td>\n",
              "      <td>0.974167</td>\n",
              "    </tr>\n",
              "    <tr>\n",
              "      <th>8</th>\n",
              "      <td>0.080808</td>\n",
              "      <td>0.974321</td>\n",
              "    </tr>\n",
              "    <tr>\n",
              "      <th>9</th>\n",
              "      <td>0.090909</td>\n",
              "      <td>0.974360</td>\n",
              "    </tr>\n",
              "    <tr>\n",
              "      <th>10</th>\n",
              "      <td>0.101010</td>\n",
              "      <td>0.974398</td>\n",
              "    </tr>\n",
              "    <tr>\n",
              "      <th>11</th>\n",
              "      <td>0.111111</td>\n",
              "      <td>0.974513</td>\n",
              "    </tr>\n",
              "    <tr>\n",
              "      <th>12</th>\n",
              "      <td>0.121212</td>\n",
              "      <td>0.974590</td>\n",
              "    </tr>\n",
              "    <tr>\n",
              "      <th>13</th>\n",
              "      <td>0.131313</td>\n",
              "      <td>0.974590</td>\n",
              "    </tr>\n",
              "    <tr>\n",
              "      <th>14</th>\n",
              "      <td>0.141414</td>\n",
              "      <td>0.974629</td>\n",
              "    </tr>\n",
              "    <tr>\n",
              "      <th>15</th>\n",
              "      <td>0.151515</td>\n",
              "      <td>0.974667</td>\n",
              "    </tr>\n",
              "    <tr>\n",
              "      <th>16</th>\n",
              "      <td>0.161616</td>\n",
              "      <td>0.974426</td>\n",
              "    </tr>\n",
              "    <tr>\n",
              "      <th>17</th>\n",
              "      <td>0.171717</td>\n",
              "      <td>0.974426</td>\n",
              "    </tr>\n",
              "    <tr>\n",
              "      <th>18</th>\n",
              "      <td>0.181818</td>\n",
              "      <td>0.974426</td>\n",
              "    </tr>\n",
              "    <tr>\n",
              "      <th>19</th>\n",
              "      <td>0.191919</td>\n",
              "      <td>0.974426</td>\n",
              "    </tr>\n",
              "    <tr>\n",
              "      <th>20</th>\n",
              "      <td>0.202020</td>\n",
              "      <td>0.974185</td>\n",
              "    </tr>\n",
              "    <tr>\n",
              "      <th>21</th>\n",
              "      <td>0.212121</td>\n",
              "      <td>0.974185</td>\n",
              "    </tr>\n",
              "    <tr>\n",
              "      <th>22</th>\n",
              "      <td>0.222222</td>\n",
              "      <td>0.974185</td>\n",
              "    </tr>\n",
              "    <tr>\n",
              "      <th>23</th>\n",
              "      <td>0.232323</td>\n",
              "      <td>0.974185</td>\n",
              "    </tr>\n",
              "    <tr>\n",
              "      <th>24</th>\n",
              "      <td>0.242424</td>\n",
              "      <td>0.974262</td>\n",
              "    </tr>\n",
              "    <tr>\n",
              "      <th>25</th>\n",
              "      <td>0.252525</td>\n",
              "      <td>0.971645</td>\n",
              "    </tr>\n",
              "    <tr>\n",
              "      <th>26</th>\n",
              "      <td>0.262626</td>\n",
              "      <td>0.969423</td>\n",
              "    </tr>\n",
              "    <tr>\n",
              "      <th>27</th>\n",
              "      <td>0.272727</td>\n",
              "      <td>0.967312</td>\n",
              "    </tr>\n",
              "    <tr>\n",
              "      <th>28</th>\n",
              "      <td>0.282828</td>\n",
              "      <td>0.965683</td>\n",
              "    </tr>\n",
              "    <tr>\n",
              "      <th>29</th>\n",
              "      <td>0.292929</td>\n",
              "      <td>0.963803</td>\n",
              "    </tr>\n",
              "    <tr>\n",
              "      <th>30</th>\n",
              "      <td>0.303030</td>\n",
              "      <td>0.962129</td>\n",
              "    </tr>\n",
              "    <tr>\n",
              "      <th>31</th>\n",
              "      <td>0.313131</td>\n",
              "      <td>0.959971</td>\n",
              "    </tr>\n",
              "    <tr>\n",
              "      <th>32</th>\n",
              "      <td>0.323232</td>\n",
              "      <td>0.959971</td>\n",
              "    </tr>\n",
              "    <tr>\n",
              "      <th>33</th>\n",
              "      <td>0.333333</td>\n",
              "      <td>0.957236</td>\n",
              "    </tr>\n",
              "    <tr>\n",
              "      <th>34</th>\n",
              "      <td>0.343434</td>\n",
              "      <td>0.956947</td>\n",
              "    </tr>\n",
              "    <tr>\n",
              "      <th>35</th>\n",
              "      <td>0.353535</td>\n",
              "      <td>0.952925</td>\n",
              "    </tr>\n",
              "    <tr>\n",
              "      <th>36</th>\n",
              "      <td>0.363636</td>\n",
              "      <td>0.950703</td>\n",
              "    </tr>\n",
              "    <tr>\n",
              "      <th>37</th>\n",
              "      <td>0.373737</td>\n",
              "      <td>0.948553</td>\n",
              "    </tr>\n",
              "    <tr>\n",
              "      <th>38</th>\n",
              "      <td>0.383838</td>\n",
              "      <td>0.941593</td>\n",
              "    </tr>\n",
              "    <tr>\n",
              "      <th>39</th>\n",
              "      <td>0.393939</td>\n",
              "      <td>0.941940</td>\n",
              "    </tr>\n",
              "    <tr>\n",
              "      <th>40</th>\n",
              "      <td>0.404040</td>\n",
              "      <td>0.930885</td>\n",
              "    </tr>\n",
              "    <tr>\n",
              "      <th>41</th>\n",
              "      <td>0.414141</td>\n",
              "      <td>0.930885</td>\n",
              "    </tr>\n",
              "    <tr>\n",
              "      <th>42</th>\n",
              "      <td>0.424242</td>\n",
              "      <td>0.927694</td>\n",
              "    </tr>\n",
              "    <tr>\n",
              "      <th>43</th>\n",
              "      <td>0.434343</td>\n",
              "      <td>0.923634</td>\n",
              "    </tr>\n",
              "    <tr>\n",
              "      <th>44</th>\n",
              "      <td>0.444444</td>\n",
              "      <td>0.919726</td>\n",
              "    </tr>\n",
              "    <tr>\n",
              "      <th>45</th>\n",
              "      <td>0.454545</td>\n",
              "      <td>0.919369</td>\n",
              "    </tr>\n",
              "    <tr>\n",
              "      <th>46</th>\n",
              "      <td>0.464646</td>\n",
              "      <td>0.919369</td>\n",
              "    </tr>\n",
              "    <tr>\n",
              "      <th>47</th>\n",
              "      <td>0.474747</td>\n",
              "      <td>0.917628</td>\n",
              "    </tr>\n",
              "    <tr>\n",
              "      <th>48</th>\n",
              "      <td>0.484848</td>\n",
              "      <td>0.917628</td>\n",
              "    </tr>\n",
              "    <tr>\n",
              "      <th>49</th>\n",
              "      <td>0.494949</td>\n",
              "      <td>0.915685</td>\n",
              "    </tr>\n",
              "  </tbody>\n",
              "</table>\n",
              "</div>"
            ],
            "text/plain": [
              "    thresholds    scores\n",
              "0     0.000000  0.896865\n",
              "1     0.010101  0.972100\n",
              "2     0.020202  0.973061\n",
              "3     0.030303  0.973321\n",
              "4     0.040404  0.973436\n",
              "5     0.050505  0.973744\n",
              "6     0.060606  0.973898\n",
              "7     0.070707  0.974167\n",
              "8     0.080808  0.974321\n",
              "9     0.090909  0.974360\n",
              "10    0.101010  0.974398\n",
              "11    0.111111  0.974513\n",
              "12    0.121212  0.974590\n",
              "13    0.131313  0.974590\n",
              "14    0.141414  0.974629\n",
              "15    0.151515  0.974667\n",
              "16    0.161616  0.974426\n",
              "17    0.171717  0.974426\n",
              "18    0.181818  0.974426\n",
              "19    0.191919  0.974426\n",
              "20    0.202020  0.974185\n",
              "21    0.212121  0.974185\n",
              "22    0.222222  0.974185\n",
              "23    0.232323  0.974185\n",
              "24    0.242424  0.974262\n",
              "25    0.252525  0.971645\n",
              "26    0.262626  0.969423\n",
              "27    0.272727  0.967312\n",
              "28    0.282828  0.965683\n",
              "29    0.292929  0.963803\n",
              "30    0.303030  0.962129\n",
              "31    0.313131  0.959971\n",
              "32    0.323232  0.959971\n",
              "33    0.333333  0.957236\n",
              "34    0.343434  0.956947\n",
              "35    0.353535  0.952925\n",
              "36    0.363636  0.950703\n",
              "37    0.373737  0.948553\n",
              "38    0.383838  0.941593\n",
              "39    0.393939  0.941940\n",
              "40    0.404040  0.930885\n",
              "41    0.414141  0.930885\n",
              "42    0.424242  0.927694\n",
              "43    0.434343  0.923634\n",
              "44    0.444444  0.919726\n",
              "45    0.454545  0.919369\n",
              "46    0.464646  0.919369\n",
              "47    0.474747  0.917628\n",
              "48    0.484848  0.917628\n",
              "49    0.494949  0.915685"
            ]
          },
          "execution_count": 75,
          "metadata": {},
          "output_type": "execute_result"
        }
      ],
      "source": [
        "pd.DataFrame(tuned_model.cv_results_).head(50)"
      ]
    },
    {
      "cell_type": "code",
      "execution_count": null,
      "metadata": {
        "id": "ig2lG2I1TuBY",
        "outputId": "90fff565-377a-4dc6-a60d-ad41ffcb420a"
      },
      "outputs": [
        {
          "data": {
            "text/plain": [
              "np.float64(0.15151515151515152)"
            ]
          },
          "execution_count": 76,
          "metadata": {},
          "output_type": "execute_result"
        }
      ],
      "source": [
        "tuned_model.best_threshold_"
      ]
    },
    {
      "cell_type": "code",
      "execution_count": null,
      "metadata": {
        "id": "3oAgBHv-TuBY"
      },
      "outputs": [],
      "source": [
        "# import precision_score & f1_score\n",
        "from sklearn.metrics import precision_score, f1_score\n",
        "\n",
        "y_pred = tuned_model.predict(X_test)\n",
        "\n",
        "print(\"Precision:\", precision_score(y_test, y_pred, pos_label=1))\n",
        "print(\"Recall:\", recall_score(y_test, y_pred, pos_label=1))\n",
        "print(\"Accuracy:\", accuracy_score(y_test, y_pred))"
      ]
    },
    {
      "cell_type": "code",
      "execution_count": null,
      "metadata": {
        "id": "k25Ho9kLTuBY",
        "outputId": "ada2c09b-7841-44ed-c0c7-b0f027684a61"
      },
      "outputs": [
        {
          "data": {
            "text/plain": [
              "<sklearn.metrics._plot.confusion_matrix.ConfusionMatrixDisplay at 0x24c97dfe840>"
            ]
          },
          "execution_count": 78,
          "metadata": {},
          "output_type": "execute_result"
        },
        {
          "data": {
            "image/png": "[encoded data removed]",
            "text/plain": [
              "<Figure size 640x480 with 2 Axes>"
            ]
          },
          "metadata": {},
          "output_type": "display_data"
        }
      ],
      "source": [
        "from sklearn.metrics import ConfusionMatrixDisplay\n",
        "ConfusionMatrixDisplay.from_predictions(y_test, tuned_model.predict(X_test),display_labels=['Not poisonous','Poisonous'])"
      ]
    },
    {
      "cell_type": "code",
      "execution_count": null,
      "metadata": {
        "id": "Y4tPxV7aTuBY"
      },
      "outputs": [],
      "source": [
        "# using our new model with non-default threshold to make predictions on new mushrooms\n",
        "\n",
        "test_tuned_predictions = tuned_model.predict(mush_test)"
      ]
    },
    {
      "cell_type": "code",
      "execution_count": null,
      "metadata": {
        "id": "dQ-PJt2sTuBY",
        "outputId": "b0e8f51d-8e50-40b5-a885-b4ec45fef574"
      },
      "outputs": [
        {
          "data": {
            "text/html": [
              "<div>\n",
              "<style scoped>\n",
              "    .dataframe tbody tr th:only-of-type {\n",
              "        vertical-align: middle;\n",
              "    }\n",
              "\n",
              "    .dataframe tbody tr th {\n",
              "        vertical-align: top;\n",
              "    }\n",
              "\n",
              "    .dataframe thead th {\n",
              "        text-align: right;\n",
              "    }\n",
              "</style>\n",
              "<table border=\"1\" class=\"dataframe\">\n",
              "  <thead>\n",
              "    <tr style=\"text-align: right;\">\n",
              "      <th></th>\n",
              "      <th>Id</th>\n",
              "      <th>poisonous</th>\n",
              "    </tr>\n",
              "  </thead>\n",
              "  <tbody>\n",
              "    <tr>\n",
              "      <th>0</th>\n",
              "      <td>5165</td>\n",
              "      <td>1</td>\n",
              "    </tr>\n",
              "    <tr>\n",
              "      <th>1</th>\n",
              "      <td>4281</td>\n",
              "      <td>1</td>\n",
              "    </tr>\n",
              "    <tr>\n",
              "      <th>2</th>\n",
              "      <td>231</td>\n",
              "      <td>1</td>\n",
              "    </tr>\n",
              "    <tr>\n",
              "      <th>3</th>\n",
              "      <td>3890</td>\n",
              "      <td>1</td>\n",
              "    </tr>\n",
              "    <tr>\n",
              "      <th>4</th>\n",
              "      <td>1521</td>\n",
              "      <td>1</td>\n",
              "    </tr>\n",
              "    <tr>\n",
              "      <th>...</th>\n",
              "      <td>...</td>\n",
              "      <td>...</td>\n",
              "    </tr>\n",
              "    <tr>\n",
              "      <th>1620</th>\n",
              "      <td>983</td>\n",
              "      <td>1</td>\n",
              "    </tr>\n",
              "    <tr>\n",
              "      <th>1621</th>\n",
              "      <td>7055</td>\n",
              "      <td>0</td>\n",
              "    </tr>\n",
              "    <tr>\n",
              "      <th>1622</th>\n",
              "      <td>7456</td>\n",
              "      <td>1</td>\n",
              "    </tr>\n",
              "    <tr>\n",
              "      <th>1623</th>\n",
              "      <td>5132</td>\n",
              "      <td>0</td>\n",
              "    </tr>\n",
              "    <tr>\n",
              "      <th>1624</th>\n",
              "      <td>6821</td>\n",
              "      <td>1</td>\n",
              "    </tr>\n",
              "  </tbody>\n",
              "</table>\n",
              "<p>1625 rows × 2 columns</p>\n",
              "</div>"
            ],
            "text/plain": [
              "        Id  poisonous\n",
              "0     5165          1\n",
              "1     4281          1\n",
              "2      231          1\n",
              "3     3890          1\n",
              "4     1521          1\n",
              "...    ...        ...\n",
              "1620   983          1\n",
              "1621  7055          0\n",
              "1622  7456          1\n",
              "1623  5132          0\n",
              "1624  6821          1\n",
              "\n",
              "[1625 rows x 2 columns]"
            ]
          },
          "execution_count": 80,
          "metadata": {},
          "output_type": "execute_result"
        }
      ],
      "source": [
        "submission_file_2 = pd.DataFrame({'Id': mush_test.index, 'poisonous': test_tuned_predictions})\n",
        "#submission_file = pd.DataFrame({'Id': mush_test.index, 'poisonous': pd.Series(predicted_test)})\n",
        "submission_file_2"
      ]
    },
    {
      "cell_type": "code",
      "execution_count": null,
      "metadata": {
        "id": "qt6_PYHZTuBY"
      },
      "outputs": [],
      "source": [
        "# submission_file.to_csv('submission.csv', index=None ) this is only for local IDE's like Jupyter or VS Code"
      ]
    },
    {
      "cell_type": "code",
      "execution_count": null,
      "metadata": {
        "id": "HmYu6_q-TuBY"
      },
      "outputs": [],
      "source": [
        "from google.colab import files\n",
        "submission_file.to_csv('submission_2.csv',index=False)\n",
        "files.download('submission_2.csv')"
      ]
    }
  ],
  "metadata": {
    "colab": {
      "provenance": []
    },
    "kernelspec": {
      "display_name": "Python 3 (ipykernel)",
      "language": "python",
      "name": "python3"
    },
    "language_info": {
      "codemirror_mode": {
        "name": "ipython",
        "version": 3
      },
      "file_extension": ".py",
      "mimetype": "text/x-python",
      "name": "python",
      "nbconvert_exporter": "python",
      "pygments_lexer": "ipython3",
      "version": "3.12.4"
    }
  },
  "nbformat": 4,
  "nbformat_minor": 0
}